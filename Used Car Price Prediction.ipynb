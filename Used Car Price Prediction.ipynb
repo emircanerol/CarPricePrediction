{
 "cells": [
  {
   "cell_type": "code",
   "execution_count": 1,
   "id": "PKJWW5PQkXhR",
   "metadata": {
    "colab": {
     "base_uri": "https://localhost:8080/"
    },
    "executionInfo": {
     "elapsed": 20753,
     "status": "ok",
     "timestamp": 1671792975345,
     "user": {
      "displayName": "Emircan Erol",
      "userId": "01489677019251818038"
     },
     "user_tz": -180
    },
    "id": "PKJWW5PQkXhR",
    "outputId": "2c58ede2-0a11-4ebe-ce28-33088893c04c"
   },
   "outputs": [
    {
     "name": "stdout",
     "output_type": "stream",
     "text": [
      "Mounted at /content/drive\n"
     ]
    }
   ],
   "source": [
    "from google.colab import drive\n",
    "drive.mount('/content/drive')"
   ]
  },
  {
   "cell_type": "code",
   "execution_count": 256,
   "id": "874241e4-76e3-484b-af70-bba5f6be7a37",
   "metadata": {
    "colab": {
     "base_uri": "https://localhost:8080/"
    },
    "executionInfo": {
     "elapsed": 960,
     "status": "ok",
     "timestamp": 1671793953886,
     "user": {
      "displayName": "Emircan Erol",
      "userId": "01489677019251818038"
     },
     "user_tz": -180
    },
    "id": "874241e4-76e3-484b-af70-bba5f6be7a37",
    "outputId": "a4c38499-fd1e-4d5d-e405-6def57f368da"
   },
   "outputs": [],
   "source": [
    "import numpy as np\n",
    "import pandas as pd\n",
    "from matplotlib import pyplot as plt\n",
    "import seaborn as sns\n",
    "import pickle\n",
    "import statistics\n",
    "import xgboost as xgb\n",
    "#Scikit-learn modules\n",
    "from sklearn.tree  import DecisionTreeRegressor\n",
    "from sklearn.ensemble import RandomForestRegressor, ExtraTreesRegressor\n",
    "from sklearn.linear_model import ElasticNet\n",
    "from sklearn.impute import KNNImputer\n",
    "from sklearn.preprocessing import LabelEncoder\n",
    "from sklearn.experimental import enable_iterative_imputer\n",
    "from sklearn.impute import SimpleImputer, IterativeImputer\n",
    "from sklearn.model_selection import train_test_split, cross_val_score, KFold\n",
    "from sklearn.preprocessing import MinMaxScaler, StandardScaler, LabelEncoder\n",
    "from sklearn.metrics import mean_squared_error\n",
    "from sklearn.ensemble import RandomForestClassifier\n",
    "from sklearn.decomposition import PCA\n",
    "# %cd /content/drive/MyDrive/Colab\\ Notebooks/CarPricePrediction\n",
    "seed = 42"
   ]
  },
  {
   "cell_type": "code",
   "execution_count": null,
   "id": "37da3587-cf60-4ec6-af0b-ec0a76d786d5",
   "metadata": {},
   "outputs": [],
   "source": [
    "# Hypothesis: Important model features are represented in the Name column and if they are similar they can be in the same category.\n",
    "def editDistance(str1, str2, m, n):\n",
    "    if m == 0:\n",
    "        return n\n",
    "    if n == 0:\n",
    "        return m\n",
    "    if str1[m-1] == str2[n-1]:\n",
    "        return editDistance(str1, str2, m-1, n-1)\n",
    "    return 1 + min(\n",
    "            editDistance(str1, str2, m, n-1),\n",
    "            editDistance(str1, str2, m-1, n),\n",
    "            editDistance(str1, str2, m-1, n-1)\n",
    "            )"
   ]
  },
  {
   "cell_type": "markdown",
   "id": "1642bd63-23b5-4432-9844-3e63ab1baa72",
   "metadata": {},
   "source": [
    "# Autos Data Preprocess"
   ]
  },
  {
   "cell_type": "code",
   "execution_count": 248,
   "id": "ab5aef69-7bf0-4ae1-b53b-ecacdd6de58c",
   "metadata": {},
   "outputs": [],
   "source": [
    "def preprocess_autos(freq_encoding=True):\n",
    "    data = pd.read_csv('Data/autos.csv', index_col='index')\n",
    "    data = data.loc[(data['price'] > 0) & (data['price'] < 35000)]\n",
    "    \n",
    "    # datetime to timestamp\n",
    "    data['createdTimestamp'] = data['dateCreated'].apply(lambda t: time.mktime(datetime.datetime.strptime(t, \"%Y-%m-%d %H:%M:%S\").timetuple())).astype(int)\n",
    "    data['createdTimestamp'] = data['createdTimestamp'] - data['createdTimestamp'].min()\n",
    "    \n",
    "    # age\n",
    "    data['age'] = 2016 - data['yearOfRegistration']\n",
    "    data['age'] = data['age'].apply(lambda age: np.nan if age < 0 or age > 80 else age)\n",
    "    \n",
    "    # model\n",
    "    data['model'] = data['model'].apply(lambda x: str(x).lower() if not x is np.nan else np.nan)\n",
    "    \n",
    "    # power\n",
    "    data['powerPS'] = data['powerPS'].apply(lambda p: p if p > 70 and p < 400 else np.nan)\n",
    "    \n",
    "    # gearbox\n",
    "    data['gearbox'] = (data['gearbox'] == 'automatik').astype(int)\n",
    "\n",
    "    # damage\n",
    "    data['notRepairedDamage'] = data['notRepairedDamage'].apply(lambda x: int(x == 'nein') if not x is np.nan else np.nan)\n",
    "    \n",
    "    # seller\n",
    "    data['seller'] = (data['seller'] == 'privat').astype(int)\n",
    "    \n",
    "    # offer type\n",
    "    data['offerType'] = (data['offerType'] == 'Angebot').astype(int)\n",
    "    \n",
    "    # vehicle type\n",
    "    data['vehicleType'] = data['vehicleType'].astype('category')\n",
    "    data['model'] = data['model'].astype('category')\n",
    "    data['fuelType'] = data['fuelType'].astype('category')\n",
    "    data['brand'] = data['brand'].astype('category')\n",
    "    \n",
    "    if freq_encoding:\n",
    "        enc = (data.groupby('vehicleType').size()) / len(data)\n",
    "        data['vehicleType'] = data['vehicleType'].apply(lambda x: enc[x])\n",
    "        \n",
    "        enc = (data.groupby('model').size()) / len(data)\n",
    "        data['model'] = data['model'].apply(lambda x: enc[x])\n",
    "        \n",
    "        enc = (data.groupby('fuelType').size()) / len(data)\n",
    "        data['fuelType'] = data['fuelType'].apply(lambda x: enc[x])\n",
    "        \n",
    "        enc = (data.groupby('brand').size()) / len(data)\n",
    "        data['brand'] = data['brand'].apply(lambda x: enc[x])\n",
    "    \n",
    "    \n",
    "    data.drop(columns=['dateCrawled', 'yearOfRegistration', 'monthOfRegistration', 'abtest', 'nrOfPictures', 'name', 'lastSeen', 'dateCreated', 'postalCode'], inplace=True)\n",
    "    \n",
    "    return data"
   ]
  },
  {
   "cell_type": "code",
   "execution_count": 249,
   "id": "bf45ed0a-fc5a-4a0a-bd61-3d989e9c6e68",
   "metadata": {},
   "outputs": [],
   "source": [
    "data = preprocess_autos()"
   ]
  },
  {
   "cell_type": "code",
   "execution_count": 250,
   "id": "4b4b5679-0a75-46c0-8488-a6bd460e882b",
   "metadata": {},
   "outputs": [
    {
     "data": {
      "text/html": [
       "<div>\n",
       "<style scoped>\n",
       "    .dataframe tbody tr th:only-of-type {\n",
       "        vertical-align: middle;\n",
       "    }\n",
       "\n",
       "    .dataframe tbody tr th {\n",
       "        vertical-align: top;\n",
       "    }\n",
       "\n",
       "    .dataframe thead th {\n",
       "        text-align: right;\n",
       "    }\n",
       "</style>\n",
       "<table border=\"1\" class=\"dataframe\">\n",
       "  <thead>\n",
       "    <tr style=\"text-align: right;\">\n",
       "      <th></th>\n",
       "      <th>seller</th>\n",
       "      <th>offerType</th>\n",
       "      <th>price</th>\n",
       "      <th>vehicleType</th>\n",
       "      <th>gearbox</th>\n",
       "      <th>powerPS</th>\n",
       "      <th>model</th>\n",
       "      <th>kilometer</th>\n",
       "      <th>fuelType</th>\n",
       "      <th>brand</th>\n",
       "      <th>notRepairedDamage</th>\n",
       "      <th>createdTimestamp</th>\n",
       "      <th>age</th>\n",
       "    </tr>\n",
       "    <tr>\n",
       "      <th>index</th>\n",
       "      <th></th>\n",
       "      <th></th>\n",
       "      <th></th>\n",
       "      <th></th>\n",
       "      <th></th>\n",
       "      <th></th>\n",
       "      <th></th>\n",
       "      <th></th>\n",
       "      <th></th>\n",
       "      <th></th>\n",
       "      <th></th>\n",
       "      <th></th>\n",
       "      <th></th>\n",
       "    </tr>\n",
       "  </thead>\n",
       "  <tbody>\n",
       "    <tr>\n",
       "      <th>0</th>\n",
       "      <td>1</td>\n",
       "      <td>1</td>\n",
       "      <td>480</td>\n",
       "      <td>NaN</td>\n",
       "      <td>0</td>\n",
       "      <td>NaN</td>\n",
       "      <td>0.081444</td>\n",
       "      <td>150000</td>\n",
       "      <td>0.605555</td>\n",
       "      <td>0.215018</td>\n",
       "      <td>NaN</td>\n",
       "      <td>64368000</td>\n",
       "      <td>23.0</td>\n",
       "    </tr>\n",
       "    <tr>\n",
       "      <th>1</th>\n",
       "      <td>1</td>\n",
       "      <td>1</td>\n",
       "      <td>18300</td>\n",
       "      <td>0.048809</td>\n",
       "      <td>0</td>\n",
       "      <td>190.0</td>\n",
       "      <td>NaN</td>\n",
       "      <td>125000</td>\n",
       "      <td>0.293384</td>\n",
       "      <td>0.087652</td>\n",
       "      <td>0.0</td>\n",
       "      <td>64368000</td>\n",
       "      <td>5.0</td>\n",
       "    </tr>\n",
       "    <tr>\n",
       "      <th>2</th>\n",
       "      <td>1</td>\n",
       "      <td>1</td>\n",
       "      <td>9800</td>\n",
       "      <td>0.038870</td>\n",
       "      <td>1</td>\n",
       "      <td>163.0</td>\n",
       "      <td>0.001640</td>\n",
       "      <td>125000</td>\n",
       "      <td>0.293384</td>\n",
       "      <td>0.002111</td>\n",
       "      <td>NaN</td>\n",
       "      <td>63504000</td>\n",
       "      <td>12.0</td>\n",
       "    </tr>\n",
       "    <tr>\n",
       "      <th>3</th>\n",
       "      <td>1</td>\n",
       "      <td>1</td>\n",
       "      <td>1500</td>\n",
       "      <td>0.219243</td>\n",
       "      <td>0</td>\n",
       "      <td>75.0</td>\n",
       "      <td>0.081444</td>\n",
       "      <td>150000</td>\n",
       "      <td>0.605555</td>\n",
       "      <td>0.215018</td>\n",
       "      <td>1.0</td>\n",
       "      <td>63763200</td>\n",
       "      <td>15.0</td>\n",
       "    </tr>\n",
       "    <tr>\n",
       "      <th>4</th>\n",
       "      <td>1</td>\n",
       "      <td>1</td>\n",
       "      <td>3600</td>\n",
       "      <td>0.219243</td>\n",
       "      <td>0</td>\n",
       "      <td>NaN</td>\n",
       "      <td>0.005776</td>\n",
       "      <td>90000</td>\n",
       "      <td>0.293384</td>\n",
       "      <td>0.015614</td>\n",
       "      <td>1.0</td>\n",
       "      <td>64969200</td>\n",
       "      <td>8.0</td>\n",
       "    </tr>\n",
       "  </tbody>\n",
       "</table>\n",
       "</div>"
      ],
      "text/plain": [
       "       seller  offerType  price vehicleType  gearbox  powerPS     model  \\\n",
       "index                                                                     \n",
       "0           1          1    480         NaN        0      NaN  0.081444   \n",
       "1           1          1  18300    0.048809        0    190.0       NaN   \n",
       "2           1          1   9800    0.038870        1    163.0  0.001640   \n",
       "3           1          1   1500    0.219243        0     75.0  0.081444   \n",
       "4           1          1   3600    0.219243        0      NaN  0.005776   \n",
       "\n",
       "       kilometer  fuelType     brand  notRepairedDamage  createdTimestamp  \\\n",
       "index                                                                       \n",
       "0         150000  0.605555  0.215018                NaN          64368000   \n",
       "1         125000  0.293384  0.087652                0.0          64368000   \n",
       "2         125000  0.293384  0.002111                NaN          63504000   \n",
       "3         150000  0.605555  0.215018                1.0          63763200   \n",
       "4          90000  0.293384  0.015614                1.0          64969200   \n",
       "\n",
       "        age  \n",
       "index        \n",
       "0      23.0  \n",
       "1       5.0  \n",
       "2      12.0  \n",
       "3      15.0  \n",
       "4       8.0  "
      ]
     },
     "execution_count": 250,
     "metadata": {},
     "output_type": "execute_result"
    }
   ],
   "source": [
    "data.head()"
   ]
  },
  {
   "cell_type": "code",
   "execution_count": 258,
   "id": "d9e54da7-de6f-4d12-80cb-15179f6866d3",
   "metadata": {},
   "outputs": [
    {
     "data": {
      "text/plain": [
       "array([[1.00000e+00, 1.00000e+00, 4.80000e+02, ..., 1.00000e+00,\n",
       "        6.43680e+07, 2.30000e+01],\n",
       "       [1.00000e+00, 1.00000e+00, 1.83000e+04, ..., 0.00000e+00,\n",
       "        6.43680e+07, 5.00000e+00],\n",
       "       [1.00000e+00, 1.00000e+00, 9.80000e+03, ..., 1.00000e+00,\n",
       "        6.35040e+07, 1.20000e+01],\n",
       "       ...,\n",
       "       [1.00000e+00, 1.00000e+00, 9.20000e+03, ..., 1.00000e+00,\n",
       "        6.39360e+07, 2.00000e+01],\n",
       "       [1.00000e+00, 1.00000e+00, 3.40000e+03, ..., 1.00000e+00,\n",
       "        6.40224e+07, 1.40000e+01],\n",
       "       [1.00000e+00, 1.00000e+00, 2.89900e+04, ..., 1.00000e+00,\n",
       "        6.28992e+07, 3.00000e+00]])"
      ]
     },
     "execution_count": 258,
     "metadata": {},
     "output_type": "execute_result"
    }
   ],
   "source": [
    "imp = SimpleImputer(strategy=\"most_frequent\")\n",
    "imp.fit_transform(data)"
   ]
  },
  {
   "cell_type": "code",
   "execution_count": 260,
   "id": "2a238941-f19b-48c7-90c3-caefbf52082a",
   "metadata": {},
   "outputs": [
    {
     "data": {
      "text/html": [
       "<style>#sk-container-id-1 {color: black;background-color: white;}#sk-container-id-1 pre{padding: 0;}#sk-container-id-1 div.sk-toggleable {background-color: white;}#sk-container-id-1 label.sk-toggleable__label {cursor: pointer;display: block;width: 100%;margin-bottom: 0;padding: 0.3em;box-sizing: border-box;text-align: center;}#sk-container-id-1 label.sk-toggleable__label-arrow:before {content: \"▸\";float: left;margin-right: 0.25em;color: #696969;}#sk-container-id-1 label.sk-toggleable__label-arrow:hover:before {color: black;}#sk-container-id-1 div.sk-estimator:hover label.sk-toggleable__label-arrow:before {color: black;}#sk-container-id-1 div.sk-toggleable__content {max-height: 0;max-width: 0;overflow: hidden;text-align: left;background-color: #f0f8ff;}#sk-container-id-1 div.sk-toggleable__content pre {margin: 0.2em;color: black;border-radius: 0.25em;background-color: #f0f8ff;}#sk-container-id-1 input.sk-toggleable__control:checked~div.sk-toggleable__content {max-height: 200px;max-width: 100%;overflow: auto;}#sk-container-id-1 input.sk-toggleable__control:checked~label.sk-toggleable__label-arrow:before {content: \"▾\";}#sk-container-id-1 div.sk-estimator input.sk-toggleable__control:checked~label.sk-toggleable__label {background-color: #d4ebff;}#sk-container-id-1 div.sk-label input.sk-toggleable__control:checked~label.sk-toggleable__label {background-color: #d4ebff;}#sk-container-id-1 input.sk-hidden--visually {border: 0;clip: rect(1px 1px 1px 1px);clip: rect(1px, 1px, 1px, 1px);height: 1px;margin: -1px;overflow: hidden;padding: 0;position: absolute;width: 1px;}#sk-container-id-1 div.sk-estimator {font-family: monospace;background-color: #f0f8ff;border: 1px dotted black;border-radius: 0.25em;box-sizing: border-box;margin-bottom: 0.5em;}#sk-container-id-1 div.sk-estimator:hover {background-color: #d4ebff;}#sk-container-id-1 div.sk-parallel-item::after {content: \"\";width: 100%;border-bottom: 1px solid gray;flex-grow: 1;}#sk-container-id-1 div.sk-label:hover label.sk-toggleable__label {background-color: #d4ebff;}#sk-container-id-1 div.sk-serial::before {content: \"\";position: absolute;border-left: 1px solid gray;box-sizing: border-box;top: 0;bottom: 0;left: 50%;z-index: 0;}#sk-container-id-1 div.sk-serial {display: flex;flex-direction: column;align-items: center;background-color: white;padding-right: 0.2em;padding-left: 0.2em;position: relative;}#sk-container-id-1 div.sk-item {position: relative;z-index: 1;}#sk-container-id-1 div.sk-parallel {display: flex;align-items: stretch;justify-content: center;background-color: white;position: relative;}#sk-container-id-1 div.sk-item::before, #sk-container-id-1 div.sk-parallel-item::before {content: \"\";position: absolute;border-left: 1px solid gray;box-sizing: border-box;top: 0;bottom: 0;left: 50%;z-index: -1;}#sk-container-id-1 div.sk-parallel-item {display: flex;flex-direction: column;z-index: 1;position: relative;background-color: white;}#sk-container-id-1 div.sk-parallel-item:first-child::after {align-self: flex-end;width: 50%;}#sk-container-id-1 div.sk-parallel-item:last-child::after {align-self: flex-start;width: 50%;}#sk-container-id-1 div.sk-parallel-item:only-child::after {width: 0;}#sk-container-id-1 div.sk-dashed-wrapped {border: 1px dashed gray;margin: 0 0.4em 0.5em 0.4em;box-sizing: border-box;padding-bottom: 0.4em;background-color: white;}#sk-container-id-1 div.sk-label label {font-family: monospace;font-weight: bold;display: inline-block;line-height: 1.2em;}#sk-container-id-1 div.sk-label-container {text-align: center;}#sk-container-id-1 div.sk-container {/* jupyter's `normalize.less` sets `[hidden] { display: none; }` but bootstrap.min.css set `[hidden] { display: none !important; }` so we also need the `!important` here to be able to override the default hidden behavior on the sphinx rendered scikit-learn.org. See: https://github.com/scikit-learn/scikit-learn/issues/21755 */display: inline-block !important;position: relative;}#sk-container-id-1 div.sk-text-repr-fallback {display: none;}</style><div id=\"sk-container-id-1\" class=\"sk-top-container\"><div class=\"sk-text-repr-fallback\"><pre>IterativeImputer(random_state=0)</pre><b>In a Jupyter environment, please rerun this cell to show the HTML representation or trust the notebook. <br />On GitHub, the HTML representation is unable to render, please try loading this page with nbviewer.org.</b></div><div class=\"sk-container\" hidden><div class=\"sk-item\"><div class=\"sk-estimator sk-toggleable\"><input class=\"sk-toggleable__control sk-hidden--visually\" id=\"sk-estimator-id-1\" type=\"checkbox\" checked><label for=\"sk-estimator-id-1\" class=\"sk-toggleable__label sk-toggleable__label-arrow\">IterativeImputer</label><div class=\"sk-toggleable__content\"><pre>IterativeImputer(random_state=0)</pre></div></div></div></div></div>"
      ],
      "text/plain": [
       "IterativeImputer(random_state=0)"
      ]
     },
     "execution_count": 260,
     "metadata": {},
     "output_type": "execute_result"
    }
   ],
   "source": [
    "imp = IterativeImputer(max_iter=10, random_state=0)\n",
    "imp.fit(data)"
   ]
  },
  {
   "cell_type": "code",
   "execution_count": 264,
   "id": "e35d8f81-171f-4346-be7c-6ddaeacd55f7",
   "metadata": {},
   "outputs": [],
   "source": [
    "imp_data = pd.DataFrame(imp.transform(data), columns=data.columns)"
   ]
  },
  {
   "cell_type": "code",
   "execution_count": 187,
   "id": "0e62bdc0-6104-45cb-b27f-899949eab85f",
   "metadata": {
    "collapsed": true,
    "jupyter": {
     "outputs_hidden": true
    },
    "tags": []
   },
   "outputs": [
    {
     "name": "stdout",
     "output_type": "stream",
     "text": [
      "seller ['privat' 'gewerblich']\n",
      "offerType ['Angebot' 'Gesuch']\n",
      "price [  480 18300  9800 ... 18429 24895 10985]\n",
      "vehicleType [nan 'coupe' 'suv' 'kleinwagen' 'limousine' 'cabrio' 'bus' 'kombi'\n",
      " 'andere']\n",
      "gearbox ['manuell' 'automatik' nan]\n",
      "powerPS [ nan 190. 163.  75. 102. 109. 125. 101. 105. 140. 115. 131. 136. 160.\n",
      " 231.  90. 118. 193.  99. 113. 218. 122. 129. 306.  95. 177.  80. 170.\n",
      " 143. 286. 232. 150. 156.  82. 204. 155. 185.  87. 180.  86.  84. 303.\n",
      " 224. 235. 200. 178. 265.  77. 110. 144. 120. 116. 184. 126.  88. 194.\n",
      " 305. 197. 179. 250. 313. 165.  98. 130. 114. 211. 326. 201. 213. 107.\n",
      "  83. 174. 100. 220.  85.  73. 192. 299.  74. 147. 310.  71.  97. 239.\n",
      " 295. 203. 300. 103. 245. 258. 292. 320.  81. 148. 354. 145. 280. 260.\n",
      " 104. 188. 333. 186. 117. 141. 132. 234. 158. 272.  92. 135. 230. 209.\n",
      " 146. 106. 166. 276. 344. 349.  72. 249. 237. 111. 279. 138. 256. 175.\n",
      "  96. 226. 301. 334. 128. 133. 124. 219. 241. 167.  94. 182. 196. 238.\n",
      " 277. 228. 112. 139.  79. 360. 243. 252. 396. 340. 108. 121. 380. 345.\n",
      " 187. 289. 222. 315. 198. 284. 233. 387. 347. 172. 137. 212. 314. 173.\n",
      " 215. 370. 290. 207. 385. 205. 171.  78.  91.  89. 325.  76. 151. 350.\n",
      "  93. 142. 343. 199. 119. 164. 264. 152. 367. 298. 240. 208. 210. 275.\n",
      " 381. 225. 127. 176. 161. 307. 268. 206. 355. 273. 223. 255. 123. 154.\n",
      " 149. 266. 169. 242. 285. 162. 328. 329. 134. 330. 247. 168. 283. 183.\n",
      " 254. 321. 322. 181. 388. 271. 364. 379. 373. 157. 195. 309. 189. 236.\n",
      " 270. 159. 374. 382. 216. 267. 331. 363. 261. 253. 376. 377. 227. 311.\n",
      " 217. 352. 394. 296. 294. 390. 246. 327. 371. 221. 259. 392. 262. 287.\n",
      " 214. 297. 282. 335. 202. 269. 288. 316. 191. 278. 257. 153. 353. 281.\n",
      " 375. 362. 386. 274. 351. 341. 383. 338. 304. 348. 358. 365. 346. 357.\n",
      " 319. 251. 337. 229. 317. 398. 318. 324. 397. 368. 332. 308. 248. 312.\n",
      " 339. 361. 336. 323. 244. 399. 359. 366. 356. 293.]\n",
      "model ['golf' nan 'grand' 'fabia' '3er' '2_reihe' 'c_max' '3_reihe' 'passat'\n",
      " 'navara' 'ka' 'polo' 'twingo' 'a_klasse' 'scirocco' '5er' 'meriva'\n",
      " 'arosa' 'andere' 'c4' 'civic' 'transporter' 'punto' 'e_klasse' 'clio'\n",
      " 'kadett' 'kangoo' 'one' 'fortwo' '1er' 'b_klasse' 'signum' 'astra' 'a8'\n",
      " 'jetta' 'fiesta' 'c_klasse' 'micra' 'vito' 'sprinter' '156' 'escort'\n",
      " 'forester' 'xc_reihe' 'scenic' 'a4' 'a1' 'insignia' 'combo' 'focus' 'tt'\n",
      " 'corsa' 'a6' 'jazz' 'omega' 'slk' '7er' '80' '147' 'glk' '100' 'z_reihe'\n",
      " 'sportage' 'sorento' 'v40' 'ibiza' 'mustang' 'eos' 'touran' 'getz' 'a3'\n",
      " 'almera' 'megane' 'lupo' 'r19' 'zafira' 'caddy' 'mondeo' 'cordoba' 'colt'\n",
      " 'impreza' 'vectra' 'berlingo' 'm_klasse' 'tiguan' 'i_reihe' 'espace'\n",
      " 'sharan' '6_reihe' 'panda' 'up' 'seicento' 'ceed' '5_reihe' 'yeti'\n",
      " 'octavia' 'mii' 'rx_reihe' '6er' 'modus' 'fox' 'matiz' 'beetle' 'c1'\n",
      " 'rio' 'touareg' 'logan' 'spider' 'cuore' 's_max' 'a2' 'x_reihe' 'a5'\n",
      " 'galaxy' 'c3' 'viano' 's_klasse' '1_reihe' 'avensis' 'sl' 'roomster' 'q5'\n",
      " 'kaefer' 'santa' 'cooper' 'leon' '4_reihe' '500' 'laguna' 'ptcruiser'\n",
      " 'clk' 'primera' 'exeo' '159' 'transit' 'juke' 'qashqai' 'carisma'\n",
      " 'accord' 'corolla' 'lanos' 'phaeton' 'boxster' 'verso' 'swift' 'rav'\n",
      " 'kuga' 'picanto' 'kalos' 'superb' 'stilo' 'alhambra' '911' 'mx_reihe'\n",
      " 'm_reihe' 'roadster' 'ypsilon' 'cayenne' 'galant' 'justy' '90' 'sirion'\n",
      " 'crossfire' 'agila' 'duster' 'cr_reihe' 'v50' 'discovery' 'c_reihe'\n",
      " 'v_klasse' 'yaris' 'c5' 'aygo' 'cc' 'carnival' 'fusion' 'bora' 'forfour'\n",
      " 'cl' 'tigra' '300c' 'q3' 'spark' 'v70' 'x_type' 'ducato' 's_type'\n",
      " 'x_trail' 'toledo' 'altea' 'voyager' 'calibra' 'bravo' 'range_rover'\n",
      " 'antara' 'tucson' 'q7' 'citigo' 'jimny' 'cx_reihe' 'wrangler' 'lybra'\n",
      " 'range_rover_sport' 'lancer' 'freelander' 'captiva' 'c2'\n",
      " 'range_rover_evoque' 'sandero' 'note' '900' 'defender' 'cherokee'\n",
      " 'clubman' 'samara' '601' 'legacy' 'pajero' 'auris' 'niva' 's60' 'nubira'\n",
      " 'vivaro' 'g_klasse' 'lodgy' '850' 'serie_2' 'charade' 'croma' 'outlander'\n",
      " 'gl' 'doblo' 'musa' 'amarok' 'move' '9000' 'v60' '145' 'aveo' '200'\n",
      " 'b_max' 'delta' 'terios' 'rangerover' 'materia' 'kalina' 'elefantino'\n",
      " 'i3' 'kappa' 'serie_3' 'serie_1' 'discovery_sport']\n",
      "kilometer [150000 125000  90000  30000  70000   5000 100000  60000  20000  80000\n",
      "  50000  40000  10000]\n",
      "fuelType ['benzin' 'diesel' nan 'lpg' 'andere' 'hybrid' 'cng' 'elektro']\n",
      "brand ['volkswagen' 'audi' 'jeep' 'skoda' 'bmw' 'peugeot' 'ford' 'mazda'\n",
      " 'nissan' 'renault' 'mercedes_benz' 'opel' 'seat' 'citroen' 'honda' 'fiat'\n",
      " 'mini' 'smart' 'hyundai' 'sonstige_autos' 'alfa_romeo' 'subaru' 'volvo'\n",
      " 'mitsubishi' 'kia' 'suzuki' 'lancia' 'porsche' 'toyota' 'chevrolet'\n",
      " 'dacia' 'daihatsu' 'trabant' 'chrysler' 'jaguar' 'daewoo' 'rover' 'saab'\n",
      " 'land_rover' 'lada']\n",
      "notRepairedDamage [nan 'ja' 'nein']\n",
      "createdTimestamp [64368000 63504000 63763200 64969200 65314800 65055600 64540800 65574000\n",
      " 63590400 64108800 63244800 64022400 64281600 64627200 63331200 63417600\n",
      " 63849600 63158400 62899200 63072000 62985600 65228400 64796400 64454400\n",
      " 64710000 64882800 64195200 60566400 62726400 65142000 63676800 65401200\n",
      " 62812800 63936000 60825600 62553600 62380800 62640000 65487600 61084800\n",
      " 58320000 61862400 62121600 32400000 62208000 61257600 59443200 61516800\n",
      " 39567600 62294400 60652800 61776000 61603200 58752000 52009200 61430400\n",
      " 62035200 60739200 57974400 60307200 61344000 59961600 59616000 62467200\n",
      " 54950400 59184000 59702400 59529600 61171200 60912000 60220800 61689600\n",
      " 53308800        0 60393600 59097600 61948800 60998400 57283200 46911600\n",
      " 52876800 56764800 53913600 58838400 60048000 54864000 44492400 52963200\n",
      " 59788800 60480000 57715200 58665600 59011200 57801600 53827200 58233600\n",
      " 58579200 58406400 52527600 59356800 60134400 50367600 59270400 58492800\n",
      " 44751600 57369600 56851200 57024000 59875200 55900800 52704000 57628800\n",
      " 47343600 40172400]\n",
      "age [23.  5. 12. 15.  8. 21.  2. 18. 11. nan  0.  9.  7. 14. 19. 26. 35. 13.\n",
      " 22. 25. 32. 10. 17.  4.  6. 16. 24.  3. 20. 31. 27.  1. 48. 34. 40. 33.\n",
      " 57. 43. 47. 45. 29. 30. 28. 49. 36. 46. 51. 71. 42. 37. 61. 38. 44. 39.\n",
      " 55. 53. 52. 50. 41. 79. 80. 56. 58. 60. 75. 54. 65. 59. 76. 67. 63. 62.\n",
      " 66. 68. 64. 74. 72. 73. 69. 78. 77. 70.]\n"
     ]
    }
   ],
   "source": [
    "for col in data.columns:\n",
    "    print(col, data[col].unique())"
   ]
  },
  {
   "cell_type": "code",
   "execution_count": 123,
   "id": "a339e146-28ae-40ad-89cb-58fab042891e",
   "metadata": {
    "tags": []
   },
   "outputs": [],
   "source": [
    "def name2features(row):\n",
    "    #print(row)\n",
    "    name = str(row['name']).lower().split('_')\n",
    "    #print(name)\n",
    "    if str(row['brand']).lower() in name:\n",
    "        name.remove(row['brand'].lower())\n",
    "    if str(row['model']).lower() in name:\n",
    "        name.remove(row['model'].lower())\n",
    "    return name\n",
    "        \n",
    "# data.apply(name2features, axis=1)\n",
    "# Did not use it but it could be used"
   ]
  },
  {
   "cell_type": "code",
   "execution_count": 88,
   "id": "12ad47b8-d689-4cfc-8443-54b597960640",
   "metadata": {
    "tags": []
   },
   "outputs": [
    {
     "data": {
      "text/plain": [
       "Text(0, 0.5, 'Number of Cars')"
      ]
     },
     "execution_count": 88,
     "metadata": {},
     "output_type": "execute_result"
    },
    {
     "data": {
      "image/png": "[encoded data removed]",
      "text/plain": [
       "<Figure size 432x288 with 1 Axes>"
      ]
     },
     "metadata": {
      "needs_background": "light"
     },
     "output_type": "display_data"
    }
   ],
   "source": [
    "plt.hist(data['powerPS'], bins=20, label='Power (PS)')\n",
    "plt.legend()\n",
    "plt.xlabel('Power')\n",
    "plt.ylabel('Number of Cars')\n",
    "# plt.savefig('Power.png')"
   ]
  },
  {
   "cell_type": "markdown",
   "id": "F2wRDPy0oIMZ",
   "metadata": {
    "id": "F2wRDPy0oIMZ",
    "jp-MarkdownHeadingCollapsed": true,
    "tags": []
   },
   "source": [
    "# Preprocessing"
   ]
  },
  {
   "cell_type": "code",
   "execution_count": 156,
   "id": "a77e22b1-f71f-4ab5-b3cc-61aae049c49d",
   "metadata": {
    "executionInfo": {
     "elapsed": 336,
     "status": "ok",
     "timestamp": 1671792872986,
     "user": {
      "displayName": "Emircan Erol",
      "userId": "01489677019251818038"
     },
     "user_tz": -180
    },
    "id": "a77e22b1-f71f-4ab5-b3cc-61aae049c49d"
   },
   "outputs": [],
   "source": [
    "train = pd.read_csv(\"Data/train-data.csv\")\n",
    "test = pd.read_csv(\"Data/train-data.csv\")"
   ]
  },
  {
   "cell_type": "code",
   "execution_count": 157,
   "id": "206ebee9-0161-4e22-9154-a272f8c40d91",
   "metadata": {
    "executionInfo": {
     "elapsed": 346,
     "status": "ok",
     "timestamp": 1671792070570,
     "user": {
      "displayName": "Emircan Erol",
      "userId": "01489677019251818038"
     },
     "user_tz": -180
    },
    "id": "206ebee9-0161-4e22-9154-a272f8c40d91"
   },
   "outputs": [],
   "source": [
    "df = pd.concat([train, test], ignore_index=True)"
   ]
  },
  {
   "cell_type": "code",
   "execution_count": 158,
   "id": "d5036a3e-be12-46f2-ad2d-12b59e2f36db",
   "metadata": {
    "colab": {
     "base_uri": "https://localhost:8080/"
    },
    "executionInfo": {
     "elapsed": 236,
     "status": "ok",
     "timestamp": 1671792072491,
     "user": {
      "displayName": "Emircan Erol",
      "userId": "01489677019251818038"
     },
     "user_tz": -180
    },
    "id": "d5036a3e-be12-46f2-ad2d-12b59e2f36db",
    "outputId": "12bd4ea1-5420-4dfd-ee66-706ce640b9ce",
    "tags": []
   },
   "outputs": [
    {
     "data": {
      "text/plain": [
       "Unnamed: 0               0\n",
       "Name                     0\n",
       "Location                 0\n",
       "Year                     0\n",
       "Kilometers_Driven        0\n",
       "Fuel_Type                0\n",
       "Transmission             0\n",
       "Owner_Type               0\n",
       "Mileage                  4\n",
       "Engine                  72\n",
       "Power                   72\n",
       "Seats                   84\n",
       "New_Price            10390\n",
       "Price                    0\n",
       "dtype: int64"
      ]
     },
     "execution_count": 158,
     "metadata": {},
     "output_type": "execute_result"
    }
   ],
   "source": [
    "df.isna().sum()"
   ]
  },
  {
   "cell_type": "code",
   "execution_count": 6,
   "id": "bc22735f-9207-4861-9462-411ed144b74c",
   "metadata": {
    "colab": {
     "base_uri": "https://localhost:8080/",
     "height": 248
    },
    "executionInfo": {
     "elapsed": 318,
     "status": "ok",
     "timestamp": 1671792084504,
     "user": {
      "displayName": "Emircan Erol",
      "userId": "01489677019251818038"
     },
     "user_tz": -180
    },
    "id": "bc22735f-9207-4861-9462-411ed144b74c",
    "outputId": "45a73fa3-926e-4661-99fb-0bada3f1112a"
   },
   "outputs": [
    {
     "data": {
      "text/html": [
       "<div>\n",
       "<style scoped>\n",
       "    .dataframe tbody tr th:only-of-type {\n",
       "        vertical-align: middle;\n",
       "    }\n",
       "\n",
       "    .dataframe tbody tr th {\n",
       "        vertical-align: top;\n",
       "    }\n",
       "\n",
       "    .dataframe thead th {\n",
       "        text-align: right;\n",
       "    }\n",
       "</style>\n",
       "<table border=\"1\" class=\"dataframe\">\n",
       "  <thead>\n",
       "    <tr style=\"text-align: right;\">\n",
       "      <th></th>\n",
       "      <th>Unnamed: 0</th>\n",
       "      <th>Name</th>\n",
       "      <th>Location</th>\n",
       "      <th>Year</th>\n",
       "      <th>Kilometers_Driven</th>\n",
       "      <th>Fuel_Type</th>\n",
       "      <th>Transmission</th>\n",
       "      <th>Owner_Type</th>\n",
       "      <th>Mileage</th>\n",
       "      <th>Engine</th>\n",
       "      <th>Power</th>\n",
       "      <th>Seats</th>\n",
       "      <th>New_Price</th>\n",
       "      <th>Price</th>\n",
       "    </tr>\n",
       "  </thead>\n",
       "  <tbody>\n",
       "    <tr>\n",
       "      <th>0</th>\n",
       "      <td>0</td>\n",
       "      <td>Maruti Wagon R LXI CNG</td>\n",
       "      <td>Mumbai</td>\n",
       "      <td>2010</td>\n",
       "      <td>72000</td>\n",
       "      <td>CNG</td>\n",
       "      <td>Manual</td>\n",
       "      <td>First</td>\n",
       "      <td>26.6 km/kg</td>\n",
       "      <td>998 CC</td>\n",
       "      <td>58.16 bhp</td>\n",
       "      <td>5.0</td>\n",
       "      <td>NaN</td>\n",
       "      <td>1.75</td>\n",
       "    </tr>\n",
       "    <tr>\n",
       "      <th>1</th>\n",
       "      <td>1</td>\n",
       "      <td>Hyundai Creta 1.6 CRDi SX Option</td>\n",
       "      <td>Pune</td>\n",
       "      <td>2015</td>\n",
       "      <td>41000</td>\n",
       "      <td>Diesel</td>\n",
       "      <td>Manual</td>\n",
       "      <td>First</td>\n",
       "      <td>19.67 kmpl</td>\n",
       "      <td>1582 CC</td>\n",
       "      <td>126.2 bhp</td>\n",
       "      <td>5.0</td>\n",
       "      <td>NaN</td>\n",
       "      <td>12.50</td>\n",
       "    </tr>\n",
       "    <tr>\n",
       "      <th>2</th>\n",
       "      <td>2</td>\n",
       "      <td>Honda Jazz V</td>\n",
       "      <td>Chennai</td>\n",
       "      <td>2011</td>\n",
       "      <td>46000</td>\n",
       "      <td>Petrol</td>\n",
       "      <td>Manual</td>\n",
       "      <td>First</td>\n",
       "      <td>18.2 kmpl</td>\n",
       "      <td>1199 CC</td>\n",
       "      <td>88.7 bhp</td>\n",
       "      <td>5.0</td>\n",
       "      <td>8.61 Lakh</td>\n",
       "      <td>4.50</td>\n",
       "    </tr>\n",
       "    <tr>\n",
       "      <th>3</th>\n",
       "      <td>3</td>\n",
       "      <td>Maruti Ertiga VDI</td>\n",
       "      <td>Chennai</td>\n",
       "      <td>2012</td>\n",
       "      <td>87000</td>\n",
       "      <td>Diesel</td>\n",
       "      <td>Manual</td>\n",
       "      <td>First</td>\n",
       "      <td>20.77 kmpl</td>\n",
       "      <td>1248 CC</td>\n",
       "      <td>88.76 bhp</td>\n",
       "      <td>7.0</td>\n",
       "      <td>NaN</td>\n",
       "      <td>6.00</td>\n",
       "    </tr>\n",
       "    <tr>\n",
       "      <th>4</th>\n",
       "      <td>4</td>\n",
       "      <td>Audi A4 New 2.0 TDI Multitronic</td>\n",
       "      <td>Coimbatore</td>\n",
       "      <td>2013</td>\n",
       "      <td>40670</td>\n",
       "      <td>Diesel</td>\n",
       "      <td>Automatic</td>\n",
       "      <td>Second</td>\n",
       "      <td>15.2 kmpl</td>\n",
       "      <td>1968 CC</td>\n",
       "      <td>140.8 bhp</td>\n",
       "      <td>5.0</td>\n",
       "      <td>NaN</td>\n",
       "      <td>17.74</td>\n",
       "    </tr>\n",
       "  </tbody>\n",
       "</table>\n",
       "</div>"
      ],
      "text/plain": [
       "   Unnamed: 0                              Name    Location  Year  \\\n",
       "0           0            Maruti Wagon R LXI CNG      Mumbai  2010   \n",
       "1           1  Hyundai Creta 1.6 CRDi SX Option        Pune  2015   \n",
       "2           2                      Honda Jazz V     Chennai  2011   \n",
       "3           3                 Maruti Ertiga VDI     Chennai  2012   \n",
       "4           4   Audi A4 New 2.0 TDI Multitronic  Coimbatore  2013   \n",
       "\n",
       "   Kilometers_Driven Fuel_Type Transmission Owner_Type     Mileage   Engine  \\\n",
       "0              72000       CNG       Manual      First  26.6 km/kg   998 CC   \n",
       "1              41000    Diesel       Manual      First  19.67 kmpl  1582 CC   \n",
       "2              46000    Petrol       Manual      First   18.2 kmpl  1199 CC   \n",
       "3              87000    Diesel       Manual      First  20.77 kmpl  1248 CC   \n",
       "4              40670    Diesel    Automatic     Second   15.2 kmpl  1968 CC   \n",
       "\n",
       "       Power  Seats  New_Price  Price  \n",
       "0  58.16 bhp    5.0        NaN   1.75  \n",
       "1  126.2 bhp    5.0        NaN  12.50  \n",
       "2   88.7 bhp    5.0  8.61 Lakh   4.50  \n",
       "3  88.76 bhp    7.0        NaN   6.00  \n",
       "4  140.8 bhp    5.0        NaN  17.74  "
      ]
     },
     "execution_count": 6,
     "metadata": {},
     "output_type": "execute_result"
    }
   ],
   "source": [
    "df.head()"
   ]
  },
  {
   "cell_type": "code",
   "execution_count": 7,
   "id": "07bfffb4-f69d-47eb-b051-eb48cc67b4c1",
   "metadata": {
    "executionInfo": {
     "elapsed": 6,
     "status": "ok",
     "timestamp": 1671792087117,
     "user": {
      "displayName": "Emircan Erol",
      "userId": "01489677019251818038"
     },
     "user_tz": -180
    },
    "id": "07bfffb4-f69d-47eb-b051-eb48cc67b4c1"
   },
   "outputs": [],
   "source": [
    "location_dict = {\n",
    "        'Mumbai':(19.07, 72.87),\n",
    "        'Pune':(18.52, 73.85),\n",
    "        'Chennai':(13.08, 80.27),\n",
    "        'Coimbatore':(11.01, 76.95),\n",
    "        'Hyderabad': (17.38, 78.48),\n",
    "        'Jaipur':(26.91, 75.78),\n",
    "        'Kochi':(9.93, 76.26),\n",
    "        'Kolkata':(22.57, 88.36),\n",
    "        'Delhi':(28.70, 77.10),\n",
    "        'Bangalore':(12.97, 77.59),\n",
    "        'Ahmedabad':(23.02, 72.57)\n",
    "        }\n",
    "\n",
    "def preprocess(x):\n",
    "    cc_str = str(x[\"Engine\"])[:-3]\n",
    "    if cc_str != \"\":\n",
    "        x[\"Engine\"] = int(cc_str)\n",
    "    # 0 is out of domain\n",
    "    # 0 will change with median\n",
    "    \n",
    "    tmp = x[\"Name\"].split()\n",
    "    x[\"Brand\"] = tmp[0]\n",
    "    x[\"Model\"] = tmp[1]\n",
    "    \n",
    "    tmp = location_dict[x[\"Location\"]]\n",
    "    x[\"Longitude\"] = tmp[0]\n",
    "    x[\"Latitude\"] = tmp[1]\n",
    "    \n",
    "    if x[\"Power\"] != \"\" and x[\"Power\"] != \"null bhp\":\n",
    "        power_str = str(x[\"Power\"]).split()[0]\n",
    "        x[\"Power\"] = float(power_str)\n",
    "    else: x[\"Power\"] = 0\n",
    "    \n",
    "    if x[\"Mileage\"] != \"\":\n",
    "        power_str = str(x[\"Mileage\"]).split()[0]\n",
    "        x[\"Mileage\"] = float(power_str)\n",
    "    else: x[\"Mileage\"] = 0\n",
    "    \n",
    "    x[\"Age\"] = 2019 - x[\"Year\"]\n",
    "    \n",
    "    if x[\"Owner_Type\"] == \"First\":\n",
    "        x[\"Owner_Type\"] = 1\n",
    "    elif x[\"Owner_Type\"] == \"Second\":\n",
    "        x[\"Owner_Type\"] = 2\n",
    "    elif x[\"Owner_Type\"] == \"Third\":\n",
    "        x[\"Owner_Type\"] = 3\n",
    "    elif x[\"Owner_Type\"] == \"Fourth & Above\":\n",
    "        x[\"Owner_Type\"] = 4\n",
    "        \n",
    "    if x[\"Fuel_Type\"] == \"CNG\" or x[\"Fuel_Type\"] == \"LPG\":\n",
    "        x[\"Fuel_Type\"] = \"Gas\"\n",
    "    return x"
   ]
  },
  {
   "cell_type": "code",
   "execution_count": 8,
   "id": "3e10e546-2417-4736-b13c-8046a79e5fc1",
   "metadata": {
    "executionInfo": {
     "elapsed": 31747,
     "status": "ok",
     "timestamp": 1671792185905,
     "user": {
      "displayName": "Emircan Erol",
      "userId": "01489677019251818038"
     },
     "user_tz": -180
    },
    "id": "3e10e546-2417-4736-b13c-8046a79e5fc1"
   },
   "outputs": [],
   "source": [
    "df = df.apply(preprocess, axis=1)\n",
    "df.drop(columns=[\"Name\", \"Location\", \"Unnamed: 0\", \"Year\", \"New_Price\"], inplace=True)"
   ]
  },
  {
   "cell_type": "code",
   "execution_count": 9,
   "id": "f786477f-ef53-4f7f-bcd1-588e7105556e",
   "metadata": {
    "colab": {
     "base_uri": "https://localhost:8080/",
     "height": 419
    },
    "executionInfo": {
     "elapsed": 307,
     "status": "ok",
     "timestamp": 1671792253566,
     "user": {
      "displayName": "Emircan Erol",
      "userId": "01489677019251818038"
     },
     "user_tz": -180
    },
    "id": "f786477f-ef53-4f7f-bcd1-588e7105556e",
    "outputId": "85ff6d0f-a9ef-48b4-bdae-0dd7d4e72ad5"
   },
   "outputs": [
    {
     "data": {
      "text/html": [
       "<div>\n",
       "<style scoped>\n",
       "    .dataframe tbody tr th:only-of-type {\n",
       "        vertical-align: middle;\n",
       "    }\n",
       "\n",
       "    .dataframe tbody tr th {\n",
       "        vertical-align: top;\n",
       "    }\n",
       "\n",
       "    .dataframe thead th {\n",
       "        text-align: right;\n",
       "    }\n",
       "</style>\n",
       "<table border=\"1\" class=\"dataframe\">\n",
       "  <thead>\n",
       "    <tr style=\"text-align: right;\">\n",
       "      <th></th>\n",
       "      <th>Kilometers_Driven</th>\n",
       "      <th>Fuel_Type</th>\n",
       "      <th>Transmission</th>\n",
       "      <th>Owner_Type</th>\n",
       "      <th>Mileage</th>\n",
       "      <th>Engine</th>\n",
       "      <th>Power</th>\n",
       "      <th>Seats</th>\n",
       "      <th>Price</th>\n",
       "      <th>Brand</th>\n",
       "      <th>Model</th>\n",
       "      <th>Longitude</th>\n",
       "      <th>Latitude</th>\n",
       "      <th>Age</th>\n",
       "    </tr>\n",
       "  </thead>\n",
       "  <tbody>\n",
       "    <tr>\n",
       "      <th>0</th>\n",
       "      <td>72000</td>\n",
       "      <td>Gas</td>\n",
       "      <td>Manual</td>\n",
       "      <td>1</td>\n",
       "      <td>26.60</td>\n",
       "      <td>998.0</td>\n",
       "      <td>58.16</td>\n",
       "      <td>5.0</td>\n",
       "      <td>1.75</td>\n",
       "      <td>Maruti</td>\n",
       "      <td>Wagon</td>\n",
       "      <td>19.07</td>\n",
       "      <td>72.87</td>\n",
       "      <td>9</td>\n",
       "    </tr>\n",
       "    <tr>\n",
       "      <th>1</th>\n",
       "      <td>41000</td>\n",
       "      <td>Diesel</td>\n",
       "      <td>Manual</td>\n",
       "      <td>1</td>\n",
       "      <td>19.67</td>\n",
       "      <td>1582.0</td>\n",
       "      <td>126.20</td>\n",
       "      <td>5.0</td>\n",
       "      <td>12.50</td>\n",
       "      <td>Hyundai</td>\n",
       "      <td>Creta</td>\n",
       "      <td>18.52</td>\n",
       "      <td>73.85</td>\n",
       "      <td>4</td>\n",
       "    </tr>\n",
       "    <tr>\n",
       "      <th>2</th>\n",
       "      <td>46000</td>\n",
       "      <td>Petrol</td>\n",
       "      <td>Manual</td>\n",
       "      <td>1</td>\n",
       "      <td>18.20</td>\n",
       "      <td>1199.0</td>\n",
       "      <td>88.70</td>\n",
       "      <td>5.0</td>\n",
       "      <td>4.50</td>\n",
       "      <td>Honda</td>\n",
       "      <td>Jazz</td>\n",
       "      <td>13.08</td>\n",
       "      <td>80.27</td>\n",
       "      <td>8</td>\n",
       "    </tr>\n",
       "    <tr>\n",
       "      <th>3</th>\n",
       "      <td>87000</td>\n",
       "      <td>Diesel</td>\n",
       "      <td>Manual</td>\n",
       "      <td>1</td>\n",
       "      <td>20.77</td>\n",
       "      <td>1248.0</td>\n",
       "      <td>88.76</td>\n",
       "      <td>7.0</td>\n",
       "      <td>6.00</td>\n",
       "      <td>Maruti</td>\n",
       "      <td>Ertiga</td>\n",
       "      <td>13.08</td>\n",
       "      <td>80.27</td>\n",
       "      <td>7</td>\n",
       "    </tr>\n",
       "    <tr>\n",
       "      <th>4</th>\n",
       "      <td>40670</td>\n",
       "      <td>Diesel</td>\n",
       "      <td>Automatic</td>\n",
       "      <td>2</td>\n",
       "      <td>15.20</td>\n",
       "      <td>1968.0</td>\n",
       "      <td>140.80</td>\n",
       "      <td>5.0</td>\n",
       "      <td>17.74</td>\n",
       "      <td>Audi</td>\n",
       "      <td>A4</td>\n",
       "      <td>11.01</td>\n",
       "      <td>76.95</td>\n",
       "      <td>6</td>\n",
       "    </tr>\n",
       "    <tr>\n",
       "      <th>...</th>\n",
       "      <td>...</td>\n",
       "      <td>...</td>\n",
       "      <td>...</td>\n",
       "      <td>...</td>\n",
       "      <td>...</td>\n",
       "      <td>...</td>\n",
       "      <td>...</td>\n",
       "      <td>...</td>\n",
       "      <td>...</td>\n",
       "      <td>...</td>\n",
       "      <td>...</td>\n",
       "      <td>...</td>\n",
       "      <td>...</td>\n",
       "      <td>...</td>\n",
       "    </tr>\n",
       "    <tr>\n",
       "      <th>12033</th>\n",
       "      <td>27365</td>\n",
       "      <td>Diesel</td>\n",
       "      <td>Manual</td>\n",
       "      <td>1</td>\n",
       "      <td>28.40</td>\n",
       "      <td>1248.0</td>\n",
       "      <td>74.00</td>\n",
       "      <td>5.0</td>\n",
       "      <td>4.75</td>\n",
       "      <td>Maruti</td>\n",
       "      <td>Swift</td>\n",
       "      <td>28.70</td>\n",
       "      <td>77.10</td>\n",
       "      <td>5</td>\n",
       "    </tr>\n",
       "    <tr>\n",
       "      <th>12034</th>\n",
       "      <td>100000</td>\n",
       "      <td>Diesel</td>\n",
       "      <td>Manual</td>\n",
       "      <td>1</td>\n",
       "      <td>24.40</td>\n",
       "      <td>1120.0</td>\n",
       "      <td>71.00</td>\n",
       "      <td>5.0</td>\n",
       "      <td>4.00</td>\n",
       "      <td>Hyundai</td>\n",
       "      <td>Xcent</td>\n",
       "      <td>26.91</td>\n",
       "      <td>75.78</td>\n",
       "      <td>4</td>\n",
       "    </tr>\n",
       "    <tr>\n",
       "      <th>12035</th>\n",
       "      <td>55000</td>\n",
       "      <td>Diesel</td>\n",
       "      <td>Manual</td>\n",
       "      <td>2</td>\n",
       "      <td>14.00</td>\n",
       "      <td>2498.0</td>\n",
       "      <td>112.00</td>\n",
       "      <td>8.0</td>\n",
       "      <td>2.90</td>\n",
       "      <td>Mahindra</td>\n",
       "      <td>Xylo</td>\n",
       "      <td>26.91</td>\n",
       "      <td>75.78</td>\n",
       "      <td>7</td>\n",
       "    </tr>\n",
       "    <tr>\n",
       "      <th>12036</th>\n",
       "      <td>46000</td>\n",
       "      <td>Petrol</td>\n",
       "      <td>Manual</td>\n",
       "      <td>1</td>\n",
       "      <td>18.90</td>\n",
       "      <td>998.0</td>\n",
       "      <td>67.10</td>\n",
       "      <td>5.0</td>\n",
       "      <td>2.65</td>\n",
       "      <td>Maruti</td>\n",
       "      <td>Wagon</td>\n",
       "      <td>22.57</td>\n",
       "      <td>88.36</td>\n",
       "      <td>6</td>\n",
       "    </tr>\n",
       "    <tr>\n",
       "      <th>12037</th>\n",
       "      <td>47000</td>\n",
       "      <td>Diesel</td>\n",
       "      <td>Manual</td>\n",
       "      <td>1</td>\n",
       "      <td>25.44</td>\n",
       "      <td>936.0</td>\n",
       "      <td>57.60</td>\n",
       "      <td>5.0</td>\n",
       "      <td>2.50</td>\n",
       "      <td>Chevrolet</td>\n",
       "      <td>Beat</td>\n",
       "      <td>17.38</td>\n",
       "      <td>78.48</td>\n",
       "      <td>8</td>\n",
       "    </tr>\n",
       "  </tbody>\n",
       "</table>\n",
       "<p>12038 rows × 14 columns</p>\n",
       "</div>"
      ],
      "text/plain": [
       "       Kilometers_Driven Fuel_Type Transmission  Owner_Type  Mileage  Engine  \\\n",
       "0                  72000       Gas       Manual           1    26.60   998.0   \n",
       "1                  41000    Diesel       Manual           1    19.67  1582.0   \n",
       "2                  46000    Petrol       Manual           1    18.20  1199.0   \n",
       "3                  87000    Diesel       Manual           1    20.77  1248.0   \n",
       "4                  40670    Diesel    Automatic           2    15.20  1968.0   \n",
       "...                  ...       ...          ...         ...      ...     ...   \n",
       "12033              27365    Diesel       Manual           1    28.40  1248.0   \n",
       "12034             100000    Diesel       Manual           1    24.40  1120.0   \n",
       "12035              55000    Diesel       Manual           2    14.00  2498.0   \n",
       "12036              46000    Petrol       Manual           1    18.90   998.0   \n",
       "12037              47000    Diesel       Manual           1    25.44   936.0   \n",
       "\n",
       "        Power  Seats  Price      Brand   Model  Longitude  Latitude  Age  \n",
       "0       58.16    5.0   1.75     Maruti   Wagon      19.07     72.87    9  \n",
       "1      126.20    5.0  12.50    Hyundai   Creta      18.52     73.85    4  \n",
       "2       88.70    5.0   4.50      Honda    Jazz      13.08     80.27    8  \n",
       "3       88.76    7.0   6.00     Maruti  Ertiga      13.08     80.27    7  \n",
       "4      140.80    5.0  17.74       Audi      A4      11.01     76.95    6  \n",
       "...       ...    ...    ...        ...     ...        ...       ...  ...  \n",
       "12033   74.00    5.0   4.75     Maruti   Swift      28.70     77.10    5  \n",
       "12034   71.00    5.0   4.00    Hyundai   Xcent      26.91     75.78    4  \n",
       "12035  112.00    8.0   2.90   Mahindra    Xylo      26.91     75.78    7  \n",
       "12036   67.10    5.0   2.65     Maruti   Wagon      22.57     88.36    6  \n",
       "12037   57.60    5.0   2.50  Chevrolet    Beat      17.38     78.48    8  \n",
       "\n",
       "[12038 rows x 14 columns]"
      ]
     },
     "execution_count": 9,
     "metadata": {},
     "output_type": "execute_result"
    }
   ],
   "source": [
    "df"
   ]
  },
  {
   "cell_type": "code",
   "execution_count": 10,
   "id": "97ca323c-e566-4cc7-9d11-1f5db9e64560",
   "metadata": {
    "executionInfo": {
     "elapsed": 2,
     "status": "ok",
     "timestamp": 1671792256977,
     "user": {
      "displayName": "Emircan Erol",
      "userId": "01489677019251818038"
     },
     "user_tz": -180
    },
    "id": "97ca323c-e566-4cc7-9d11-1f5db9e64560"
   },
   "outputs": [],
   "source": [
    "df.drop(df[df[\"Kilometers_Driven\"] == df[\"Kilometers_Driven\"].max()].index, inplace=True)\n",
    "df.drop(df[df[\"Fuel_Type\"] == \"Electric\"].index, inplace=True)"
   ]
  },
  {
   "cell_type": "code",
   "execution_count": 4,
   "id": "e8ef5f9a-5405-4bb0-a6f1-6e9fcbb51b11",
   "metadata": {
    "colab": {
     "base_uri": "https://localhost:8080/",
     "height": 198
    },
    "collapsed": true,
    "executionInfo": {
     "elapsed": 555,
     "status": "error",
     "timestamp": 1671793048946,
     "user": {
      "displayName": "Emircan Erol",
      "userId": "01489677019251818038"
     },
     "user_tz": -180
    },
    "id": "e8ef5f9a-5405-4bb0-a6f1-6e9fcbb51b11",
    "jupyter": {
     "outputs_hidden": true
    },
    "outputId": "b4a2066c-6bca-4578-ca69-6c986958b427",
    "tags": []
   },
   "outputs": [
    {
     "ename": "NameError",
     "evalue": "ignored",
     "output_type": "error",
     "traceback": [
      "\u001b[0;31m---------------------------------------------------------------------------\u001b[0m",
      "\u001b[0;31mNameError\u001b[0m                                 Traceback (most recent call last)",
      "\u001b[0;32m<ipython-input-4-5d0dcb62960b>\u001b[0m in \u001b[0;36m<module>\u001b[0;34m\u001b[0m\n\u001b[1;32m      8\u001b[0m \u001b[0;34m\u001b[0m\u001b[0m\n\u001b[1;32m      9\u001b[0m     \u001b[0;32mreturn\u001b[0m \u001b[0mx\u001b[0m\u001b[0;34m\u001b[0m\u001b[0;34m\u001b[0m\u001b[0m\n\u001b[0;32m---> 10\u001b[0;31m \u001b[0mtrain\u001b[0m \u001b[0;34m=\u001b[0m \u001b[0mtrain\u001b[0m\u001b[0;34m.\u001b[0m\u001b[0mapply\u001b[0m\u001b[0;34m(\u001b[0m\u001b[0mfill_median\u001b[0m\u001b[0;34m,\u001b[0m \u001b[0maxis\u001b[0m\u001b[0;34m=\u001b[0m\u001b[0;36m1\u001b[0m\u001b[0;34m)\u001b[0m\u001b[0;34m\u001b[0m\u001b[0;34m\u001b[0m\u001b[0m\n\u001b[0m",
      "\u001b[0;31mNameError\u001b[0m: name 'train' is not defined"
     ]
    }
   ],
   "source": [
    "return\n",
    "def fill_median(x):\n",
    "    # na is replaced with 0 previously\n",
    "    if x[\"Power\"] == 0:\n",
    "        x[\"Power\"] = train[\"Power\"].median()\n",
    "\n",
    "    if x[\"Mileage\"] == 0:\n",
    "        x[\"Mileage\"] = train[\"Mileage\"].median()\n",
    "    \n",
    "    return x\n",
    "train = train.apply(fill_median, axis=1)"
   ]
  },
  {
   "cell_type": "code",
   "execution_count": 11,
   "id": "16ff4e78-71cd-4b3c-a908-a4be1aa5f36f",
   "metadata": {
    "executionInfo": {
     "elapsed": 3,
     "status": "ok",
     "timestamp": 1671793960440,
     "user": {
      "displayName": "Emircan Erol",
      "userId": "01489677019251818038"
     },
     "user_tz": -180
    },
    "id": "16ff4e78-71cd-4b3c-a908-a4be1aa5f36f"
   },
   "outputs": [],
   "source": [
    "df[\"Brand\"] = df[\"Brand\"].astype(\"category\")\n",
    "df[\"Model\"] = df[\"Model\"].astype(\"category\")\n",
    "df[\"Fuel_Type\"] = df[\"Fuel_Type\"].astype(\"category\")\n",
    "df[\"Transmission\"] = df[\"Transmission\"].astype(\"category\")"
   ]
  },
  {
   "cell_type": "code",
   "execution_count": 14,
   "id": "c9c4ae2d-e529-4ae6-9324-edc2cb8d7ea5",
   "metadata": {
    "colab": {
     "base_uri": "https://localhost:8080/",
     "height": 351
    },
    "executionInfo": {
     "elapsed": 732,
     "status": "ok",
     "timestamp": 1671793961892,
     "user": {
      "displayName": "Emircan Erol",
      "userId": "01489677019251818038"
     },
     "user_tz": -180
    },
    "id": "c9c4ae2d-e529-4ae6-9324-edc2cb8d7ea5",
    "outputId": "7ac40fdf-4741-44b9-f1a7-7ff4db97d9fa"
   },
   "outputs": [
    {
     "data": {
      "image/png": "[encoded data removed]",
      "text/plain": [
       "<Figure size 432x288 with 2 Axes>"
      ]
     },
     "metadata": {
      "needs_background": "light"
     },
     "output_type": "display_data"
    }
   ],
   "source": [
    "figure = sns.heatmap(df.corr())\n",
    "# Power and engine has a great correlation can be used together\n",
    "# Curse of dimensionality can be avoided"
   ]
  },
  {
   "cell_type": "code",
   "execution_count": 12,
   "id": "3b755bcb-a663-4d61-87ba-7eda3ed20b73",
   "metadata": {
    "executionInfo": {
     "elapsed": 238,
     "status": "ok",
     "timestamp": 1671792260928,
     "user": {
      "displayName": "Emircan Erol",
      "userId": "01489677019251818038"
     },
     "user_tz": -180
    },
    "id": "3b755bcb-a663-4d61-87ba-7eda3ed20b73"
   },
   "outputs": [],
   "source": [
    "df.to_pickle(\"Data/preprocessed_dataframe.pkl\")"
   ]
  },
  {
   "cell_type": "markdown",
   "id": "FvHoi_b1oQiD",
   "metadata": {
    "id": "FvHoi_b1oQiD",
    "jp-MarkdownHeadingCollapsed": true,
    "tags": []
   },
   "source": [
    "# Save"
   ]
  },
  {
   "cell_type": "code",
   "execution_count": 159,
   "id": "4233f20d-87df-46f5-8c98-8e523e265ce6",
   "metadata": {
    "executionInfo": {
     "elapsed": 382,
     "status": "ok",
     "timestamp": 1671793959739,
     "user": {
      "displayName": "Emircan Erol",
      "userId": "01489677019251818038"
     },
     "user_tz": -180
    },
    "id": "4233f20d-87df-46f5-8c98-8e523e265ce6"
   },
   "outputs": [],
   "source": [
    "df = pd.read_pickle(\"Data/preprocessed_dataframe.pkl\")"
   ]
  },
  {
   "cell_type": "code",
   "execution_count": 160,
   "id": "7c63e9ee-7590-471a-bbd1-abd7555ac4c3",
   "metadata": {
    "executionInfo": {
     "elapsed": 3,
     "status": "ok",
     "timestamp": 1671793965468,
     "user": {
      "displayName": "Emircan Erol",
      "userId": "01489677019251818038"
     },
     "user_tz": -180
    },
    "id": "7c63e9ee-7590-471a-bbd1-abd7555ac4c3",
    "tags": []
   },
   "outputs": [],
   "source": [
    "scaler = StandardScaler()\n",
    "numerics = ['int16', 'int32', 'int64', 'float16', 'float32', 'float64']\n",
    "numeric_columns = df.select_dtypes(include=numerics).columns\n",
    "numeric_columns = np.delete(numeric_columns, np.argwhere(numeric_columns == \"Price\"))\n",
    "df[numeric_columns] = scaler.fit_transform(df[numeric_columns])"
   ]
  },
  {
   "cell_type": "code",
   "execution_count": 161,
   "id": "8210957d-acb6-4b28-9d4b-dbe3533f02b1",
   "metadata": {
    "colab": {
     "base_uri": "https://localhost:8080/",
     "height": 419
    },
    "executionInfo": {
     "elapsed": 5,
     "status": "ok",
     "timestamp": 1671793966015,
     "user": {
      "displayName": "Emircan Erol",
      "userId": "01489677019251818038"
     },
     "user_tz": -180
    },
    "id": "8210957d-acb6-4b28-9d4b-dbe3533f02b1",
    "outputId": "58a349ca-e1e3-449f-e57a-609e3b049727"
   },
   "outputs": [
    {
     "data": {
      "text/html": [
       "<div>\n",
       "<style scoped>\n",
       "    .dataframe tbody tr th:only-of-type {\n",
       "        vertical-align: middle;\n",
       "    }\n",
       "\n",
       "    .dataframe tbody tr th {\n",
       "        vertical-align: top;\n",
       "    }\n",
       "\n",
       "    .dataframe thead th {\n",
       "        text-align: right;\n",
       "    }\n",
       "</style>\n",
       "<table border=\"1\" class=\"dataframe\">\n",
       "  <thead>\n",
       "    <tr style=\"text-align: right;\">\n",
       "      <th></th>\n",
       "      <th>Kilometers_Driven</th>\n",
       "      <th>Fuel_Type</th>\n",
       "      <th>Transmission</th>\n",
       "      <th>Owner_Type</th>\n",
       "      <th>Mileage</th>\n",
       "      <th>Engine</th>\n",
       "      <th>Power</th>\n",
       "      <th>Seats</th>\n",
       "      <th>Price</th>\n",
       "      <th>Brand</th>\n",
       "      <th>Model</th>\n",
       "      <th>Longitude</th>\n",
       "      <th>Latitude</th>\n",
       "      <th>Age</th>\n",
       "    </tr>\n",
       "  </thead>\n",
       "  <tbody>\n",
       "    <tr>\n",
       "      <th>0</th>\n",
       "      <td>0.378244</td>\n",
       "      <td>Gas</td>\n",
       "      <td>Manual</td>\n",
       "      <td>-0.444686</td>\n",
       "      <td>1.847294</td>\n",
       "      <td>-1.037315</td>\n",
       "      <td>-0.957299</td>\n",
       "      <td>-0.344737</td>\n",
       "      <td>1.75</td>\n",
       "      <td>Maruti</td>\n",
       "      <td>Wagon</td>\n",
       "      <td>0.182624</td>\n",
       "      <td>-1.084610</td>\n",
       "      <td>1.026889</td>\n",
       "    </tr>\n",
       "    <tr>\n",
       "      <th>1</th>\n",
       "      <td>-0.440100</td>\n",
       "      <td>Diesel</td>\n",
       "      <td>Manual</td>\n",
       "      <td>-0.444686</td>\n",
       "      <td>0.334922</td>\n",
       "      <td>-0.065368</td>\n",
       "      <td>0.270238</td>\n",
       "      <td>-0.344737</td>\n",
       "      <td>12.50</td>\n",
       "      <td>Hyundai</td>\n",
       "      <td>Creta</td>\n",
       "      <td>0.089273</td>\n",
       "      <td>-0.844843</td>\n",
       "      <td>-0.502336</td>\n",
       "    </tr>\n",
       "    <tr>\n",
       "      <th>2</th>\n",
       "      <td>-0.308109</td>\n",
       "      <td>Petrol</td>\n",
       "      <td>Manual</td>\n",
       "      <td>-0.444686</td>\n",
       "      <td>0.014115</td>\n",
       "      <td>-0.702792</td>\n",
       "      <td>-0.406314</td>\n",
       "      <td>-0.344737</td>\n",
       "      <td>4.50</td>\n",
       "      <td>Honda</td>\n",
       "      <td>Jazz</td>\n",
       "      <td>-0.834060</td>\n",
       "      <td>0.725875</td>\n",
       "      <td>0.721044</td>\n",
       "    </tr>\n",
       "    <tr>\n",
       "      <th>3</th>\n",
       "      <td>0.774217</td>\n",
       "      <td>Diesel</td>\n",
       "      <td>Manual</td>\n",
       "      <td>-0.444686</td>\n",
       "      <td>0.574981</td>\n",
       "      <td>-0.621241</td>\n",
       "      <td>-0.405232</td>\n",
       "      <td>2.127601</td>\n",
       "      <td>6.00</td>\n",
       "      <td>Maruti</td>\n",
       "      <td>Ertiga</td>\n",
       "      <td>-0.834060</td>\n",
       "      <td>0.725875</td>\n",
       "      <td>0.415199</td>\n",
       "    </tr>\n",
       "    <tr>\n",
       "      <th>4</th>\n",
       "      <td>-0.448811</td>\n",
       "      <td>Diesel</td>\n",
       "      <td>Automatic</td>\n",
       "      <td>1.746332</td>\n",
       "      <td>-0.640591</td>\n",
       "      <td>0.577049</td>\n",
       "      <td>0.533643</td>\n",
       "      <td>-0.344737</td>\n",
       "      <td>17.74</td>\n",
       "      <td>Audi</td>\n",
       "      <td>A4</td>\n",
       "      <td>-1.185402</td>\n",
       "      <td>-0.086397</td>\n",
       "      <td>0.109354</td>\n",
       "    </tr>\n",
       "  </tbody>\n",
       "</table>\n",
       "</div>"
      ],
      "text/plain": [
       "   Kilometers_Driven Fuel_Type Transmission  Owner_Type   Mileage    Engine  \\\n",
       "0           0.378244       Gas       Manual   -0.444686  1.847294 -1.037315   \n",
       "1          -0.440100    Diesel       Manual   -0.444686  0.334922 -0.065368   \n",
       "2          -0.308109    Petrol       Manual   -0.444686  0.014115 -0.702792   \n",
       "3           0.774217    Diesel       Manual   -0.444686  0.574981 -0.621241   \n",
       "4          -0.448811    Diesel    Automatic    1.746332 -0.640591  0.577049   \n",
       "\n",
       "      Power     Seats  Price    Brand   Model  Longitude  Latitude       Age  \n",
       "0 -0.957299 -0.344737   1.75   Maruti   Wagon   0.182624 -1.084610  1.026889  \n",
       "1  0.270238 -0.344737  12.50  Hyundai   Creta   0.089273 -0.844843 -0.502336  \n",
       "2 -0.406314 -0.344737   4.50    Honda    Jazz  -0.834060  0.725875  0.721044  \n",
       "3 -0.405232  2.127601   6.00   Maruti  Ertiga  -0.834060  0.725875  0.415199  \n",
       "4  0.533643 -0.344737  17.74     Audi      A4  -1.185402 -0.086397  0.109354  "
      ]
     },
     "execution_count": 161,
     "metadata": {},
     "output_type": "execute_result"
    }
   ],
   "source": [
    "df.head()"
   ]
  },
  {
   "cell_type": "code",
   "execution_count": 168,
   "id": "909b5ccf-ec4b-47d2-bc5c-1c404b339d27",
   "metadata": {},
   "outputs": [],
   "source": [
    "df = df[df['Price'] < 65]"
   ]
  },
  {
   "cell_type": "code",
   "execution_count": 54,
   "id": "2d13642b-d3d1-4c3e-9a84-ca49f9ec366c",
   "metadata": {
    "executionInfo": {
     "elapsed": 2,
     "status": "ok",
     "timestamp": 1671793967109,
     "user": {
      "displayName": "Emircan Erol",
      "userId": "01489677019251818038"
     },
     "user_tz": -180
    },
    "id": "2d13642b-d3d1-4c3e-9a84-ca49f9ec366c"
   },
   "outputs": [],
   "source": [
    "# df[\"Mileage\"] = df[\"Mileage\"].fillna(df[\"Mileage\"].median())"
   ]
  },
  {
   "cell_type": "code",
   "execution_count": 169,
   "id": "451bb3ae-a7bf-45f0-9804-40815ec0f772",
   "metadata": {
    "colab": {
     "base_uri": "https://localhost:8080/"
    },
    "executionInfo": {
     "elapsed": 6,
     "status": "ok",
     "timestamp": 1671793967682,
     "user": {
      "displayName": "Emircan Erol",
      "userId": "01489677019251818038"
     },
     "user_tz": -180
    },
    "id": "451bb3ae-a7bf-45f0-9804-40815ec0f772",
    "outputId": "abce9942-bc6d-48fc-d68e-9d9e9f0ddef2"
   },
   "outputs": [
    {
     "data": {
      "text/plain": [
       "Kilometers_Driven     0\n",
       "Fuel_Type             0\n",
       "Transmission          0\n",
       "Owner_Type            0\n",
       "Mileage               0\n",
       "Engine               72\n",
       "Power                72\n",
       "Seats                84\n",
       "Price                 0\n",
       "Brand                 0\n",
       "Model                 0\n",
       "Longitude             0\n",
       "Latitude              0\n",
       "Age                   0\n",
       "dtype: int64"
      ]
     },
     "execution_count": 169,
     "metadata": {},
     "output_type": "execute_result"
    }
   ],
   "source": [
    "df.isna().sum()"
   ]
  },
  {
   "cell_type": "code",
   "execution_count": 170,
   "id": "9be3f9d8-6a75-41b5-afbc-7fffabfb54c7",
   "metadata": {
    "colab": {
     "base_uri": "https://localhost:8080/"
    },
    "executionInfo": {
     "elapsed": 667,
     "status": "ok",
     "timestamp": 1671793973558,
     "user": {
      "displayName": "Emircan Erol",
      "userId": "01489677019251818038"
     },
     "user_tz": -180
    },
    "id": "9be3f9d8-6a75-41b5-afbc-7fffabfb54c7",
    "outputId": "a05ff426-2265-4678-9751-c753bfcc5850"
   },
   "outputs": [
    {
     "data": {
      "text/plain": [
       "Kilometers_Driven    0\n",
       "Fuel_Type            0\n",
       "Transmission         0\n",
       "Owner_Type           0\n",
       "Mileage              0\n",
       "Engine               0\n",
       "Power                0\n",
       "Seats                0\n",
       "Price                0\n",
       "Brand                0\n",
       "Model                0\n",
       "Longitude            0\n",
       "Latitude             0\n",
       "Age                  0\n",
       "dtype: int64"
      ]
     },
     "execution_count": 170,
     "metadata": {},
     "output_type": "execute_result"
    }
   ],
   "source": [
    "imputer = KNNImputer(n_neighbors=10)\n",
    "df[numeric_columns] = imputer.fit_transform(df[numeric_columns])\n",
    "df.isna().sum()"
   ]
  },
  {
   "cell_type": "markdown",
   "id": "508adb9d-fde1-4595-9466-355ac5fc6fd7",
   "metadata": {
    "id": "508adb9d-fde1-4595-9466-355ac5fc6fd7",
    "jp-MarkdownHeadingCollapsed": true,
    "tags": []
   },
   "source": [
    "# Decision Tree & Random Forest"
   ]
  },
  {
   "cell_type": "code",
   "execution_count": 49,
   "id": "03fad793-4349-472b-bdc7-b574eb3503bb",
   "metadata": {},
   "outputs": [],
   "source": [
    "df_encoded = df.copy()\n",
    "\n",
    "trans_le = LabelEncoder()\n",
    "df_encoded[\"Transmission\"] = trans_le.fit_transform(df[\"Transmission\"]).astype(int)\n",
    "\n",
    "ft_le = LabelEncoder()\n",
    "df_encoded[\"Fuel_Type\"] = ft_le.fit_transform(df[\"Fuel_Type\"]).astype(int)\n",
    "\n",
    "brand_le = LabelEncoder()\n",
    "df_encoded[\"Brand\"] = brand_le.fit_transform(df[\"Brand\"]).astype(int)\n",
    "\n",
    "model_le = LabelEncoder()\n",
    "df_encoded[\"Model\"] = model_le.fit_transform(df[\"Model\"]).astype(int)"
   ]
  },
  {
   "cell_type": "code",
   "execution_count": 63,
   "id": "2bd39370-2c05-4315-add0-352312b1fc08",
   "metadata": {
    "collapsed": true,
    "jupyter": {
     "outputs_hidden": true
    },
    "tags": []
   },
   "outputs": [
    {
     "ename": "ValueError",
     "evalue": "Expected 2D array, got 1D array instead:\narray=['Manual' 'Manual' 'Manual' ... 'Manual' 'Manual' 'Manual'].\nReshape your data either using array.reshape(-1, 1) if your data has a single feature or array.reshape(1, -1) if it contains a single sample.",
     "output_type": "error",
     "traceback": [
      "\u001b[0;31m---------------------------------------------------------------------------\u001b[0m",
      "\u001b[0;31mValueError\u001b[0m                                Traceback (most recent call last)",
      "Input \u001b[0;32mIn [63]\u001b[0m, in \u001b[0;36m<cell line: 2>\u001b[0;34m()\u001b[0m\n\u001b[1;32m      1\u001b[0m enc \u001b[38;5;241m=\u001b[39m OneHotEncoder(handle_unknown\u001b[38;5;241m=\u001b[39m\u001b[38;5;124m'\u001b[39m\u001b[38;5;124mignore\u001b[39m\u001b[38;5;124m'\u001b[39m)\n\u001b[0;32m----> 2\u001b[0m \u001b[43menc\u001b[49m\u001b[38;5;241;43m.\u001b[39;49m\u001b[43mfit_transform\u001b[49m\u001b[43m(\u001b[49m\u001b[43mdf\u001b[49m\u001b[43m[\u001b[49m\u001b[38;5;124;43m\"\u001b[39;49m\u001b[38;5;124;43mTransmission\u001b[39;49m\u001b[38;5;124;43m\"\u001b[39;49m\u001b[43m]\u001b[49m\u001b[43m)\u001b[49m\n",
      "File \u001b[0;32m/opt/homebrew/Caskroom/miniforge/base/envs/dev/lib/python3.10/site-packages/sklearn/preprocessing/_encoders.py:855\u001b[0m, in \u001b[0;36mOneHotEncoder.fit_transform\u001b[0;34m(self, X, y)\u001b[0m\n\u001b[1;32m    833\u001b[0m \u001b[38;5;124;03m\"\"\"\u001b[39;00m\n\u001b[1;32m    834\u001b[0m \u001b[38;5;124;03mFit OneHotEncoder to X, then transform X.\u001b[39;00m\n\u001b[1;32m    835\u001b[0m \n\u001b[0;32m   (...)\u001b[0m\n\u001b[1;32m    852\u001b[0m \u001b[38;5;124;03m    returned.\u001b[39;00m\n\u001b[1;32m    853\u001b[0m \u001b[38;5;124;03m\"\"\"\u001b[39;00m\n\u001b[1;32m    854\u001b[0m \u001b[38;5;28mself\u001b[39m\u001b[38;5;241m.\u001b[39m_validate_keywords()\n\u001b[0;32m--> 855\u001b[0m \u001b[38;5;28;01mreturn\u001b[39;00m \u001b[38;5;28;43msuper\u001b[39;49m\u001b[43m(\u001b[49m\u001b[43m)\u001b[49m\u001b[38;5;241;43m.\u001b[39;49m\u001b[43mfit_transform\u001b[49m\u001b[43m(\u001b[49m\u001b[43mX\u001b[49m\u001b[43m,\u001b[49m\u001b[43m \u001b[49m\u001b[43my\u001b[49m\u001b[43m)\u001b[49m\n",
      "File \u001b[0;32m/opt/homebrew/Caskroom/miniforge/base/envs/dev/lib/python3.10/site-packages/sklearn/base.py:867\u001b[0m, in \u001b[0;36mTransformerMixin.fit_transform\u001b[0;34m(self, X, y, **fit_params)\u001b[0m\n\u001b[1;32m    863\u001b[0m \u001b[38;5;66;03m# non-optimized default implementation; override when a better\u001b[39;00m\n\u001b[1;32m    864\u001b[0m \u001b[38;5;66;03m# method is possible for a given clustering algorithm\u001b[39;00m\n\u001b[1;32m    865\u001b[0m \u001b[38;5;28;01mif\u001b[39;00m y \u001b[38;5;129;01mis\u001b[39;00m \u001b[38;5;28;01mNone\u001b[39;00m:\n\u001b[1;32m    866\u001b[0m     \u001b[38;5;66;03m# fit method of arity 1 (unsupervised transformation)\u001b[39;00m\n\u001b[0;32m--> 867\u001b[0m     \u001b[38;5;28;01mreturn\u001b[39;00m \u001b[38;5;28;43mself\u001b[39;49m\u001b[38;5;241;43m.\u001b[39;49m\u001b[43mfit\u001b[49m\u001b[43m(\u001b[49m\u001b[43mX\u001b[49m\u001b[43m,\u001b[49m\u001b[43m \u001b[49m\u001b[38;5;241;43m*\u001b[39;49m\u001b[38;5;241;43m*\u001b[39;49m\u001b[43mfit_params\u001b[49m\u001b[43m)\u001b[49m\u001b[38;5;241m.\u001b[39mtransform(X)\n\u001b[1;32m    868\u001b[0m \u001b[38;5;28;01melse\u001b[39;00m:\n\u001b[1;32m    869\u001b[0m     \u001b[38;5;66;03m# fit method of arity 2 (supervised transformation)\u001b[39;00m\n\u001b[1;32m    870\u001b[0m     \u001b[38;5;28;01mreturn\u001b[39;00m \u001b[38;5;28mself\u001b[39m\u001b[38;5;241m.\u001b[39mfit(X, y, \u001b[38;5;241m*\u001b[39m\u001b[38;5;241m*\u001b[39mfit_params)\u001b[38;5;241m.\u001b[39mtransform(X)\n",
      "File \u001b[0;32m/opt/homebrew/Caskroom/miniforge/base/envs/dev/lib/python3.10/site-packages/sklearn/preprocessing/_encoders.py:818\u001b[0m, in \u001b[0;36mOneHotEncoder.fit\u001b[0;34m(self, X, y)\u001b[0m\n\u001b[1;32m    800\u001b[0m \u001b[38;5;124;03m\"\"\"\u001b[39;00m\n\u001b[1;32m    801\u001b[0m \u001b[38;5;124;03mFit OneHotEncoder to X.\u001b[39;00m\n\u001b[1;32m    802\u001b[0m \n\u001b[0;32m   (...)\u001b[0m\n\u001b[1;32m    815\u001b[0m \u001b[38;5;124;03m    Fitted encoder.\u001b[39;00m\n\u001b[1;32m    816\u001b[0m \u001b[38;5;124;03m\"\"\"\u001b[39;00m\n\u001b[1;32m    817\u001b[0m \u001b[38;5;28mself\u001b[39m\u001b[38;5;241m.\u001b[39m_validate_keywords()\n\u001b[0;32m--> 818\u001b[0m fit_results \u001b[38;5;241m=\u001b[39m \u001b[38;5;28;43mself\u001b[39;49m\u001b[38;5;241;43m.\u001b[39;49m\u001b[43m_fit\u001b[49m\u001b[43m(\u001b[49m\n\u001b[1;32m    819\u001b[0m \u001b[43m    \u001b[49m\u001b[43mX\u001b[49m\u001b[43m,\u001b[49m\n\u001b[1;32m    820\u001b[0m \u001b[43m    \u001b[49m\u001b[43mhandle_unknown\u001b[49m\u001b[38;5;241;43m=\u001b[39;49m\u001b[38;5;28;43mself\u001b[39;49m\u001b[38;5;241;43m.\u001b[39;49m\u001b[43mhandle_unknown\u001b[49m\u001b[43m,\u001b[49m\n\u001b[1;32m    821\u001b[0m \u001b[43m    \u001b[49m\u001b[43mforce_all_finite\u001b[49m\u001b[38;5;241;43m=\u001b[39;49m\u001b[38;5;124;43m\"\u001b[39;49m\u001b[38;5;124;43mallow-nan\u001b[39;49m\u001b[38;5;124;43m\"\u001b[39;49m\u001b[43m,\u001b[49m\n\u001b[1;32m    822\u001b[0m \u001b[43m    \u001b[49m\u001b[43mreturn_counts\u001b[49m\u001b[38;5;241;43m=\u001b[39;49m\u001b[38;5;28;43mself\u001b[39;49m\u001b[38;5;241;43m.\u001b[39;49m\u001b[43m_infrequent_enabled\u001b[49m\u001b[43m,\u001b[49m\n\u001b[1;32m    823\u001b[0m \u001b[43m\u001b[49m\u001b[43m)\u001b[49m\n\u001b[1;32m    824\u001b[0m \u001b[38;5;28;01mif\u001b[39;00m \u001b[38;5;28mself\u001b[39m\u001b[38;5;241m.\u001b[39m_infrequent_enabled:\n\u001b[1;32m    825\u001b[0m     \u001b[38;5;28mself\u001b[39m\u001b[38;5;241m.\u001b[39m_fit_infrequent_category_mapping(\n\u001b[1;32m    826\u001b[0m         fit_results[\u001b[38;5;124m\"\u001b[39m\u001b[38;5;124mn_samples\u001b[39m\u001b[38;5;124m\"\u001b[39m], fit_results[\u001b[38;5;124m\"\u001b[39m\u001b[38;5;124mcategory_counts\u001b[39m\u001b[38;5;124m\"\u001b[39m]\n\u001b[1;32m    827\u001b[0m     )\n",
      "File \u001b[0;32m/opt/homebrew/Caskroom/miniforge/base/envs/dev/lib/python3.10/site-packages/sklearn/preprocessing/_encoders.py:80\u001b[0m, in \u001b[0;36m_BaseEncoder._fit\u001b[0;34m(self, X, handle_unknown, force_all_finite, return_counts)\u001b[0m\n\u001b[1;32m     78\u001b[0m \u001b[38;5;28mself\u001b[39m\u001b[38;5;241m.\u001b[39m_check_n_features(X, reset\u001b[38;5;241m=\u001b[39m\u001b[38;5;28;01mTrue\u001b[39;00m)\n\u001b[1;32m     79\u001b[0m \u001b[38;5;28mself\u001b[39m\u001b[38;5;241m.\u001b[39m_check_feature_names(X, reset\u001b[38;5;241m=\u001b[39m\u001b[38;5;28;01mTrue\u001b[39;00m)\n\u001b[0;32m---> 80\u001b[0m X_list, n_samples, n_features \u001b[38;5;241m=\u001b[39m \u001b[38;5;28;43mself\u001b[39;49m\u001b[38;5;241;43m.\u001b[39;49m\u001b[43m_check_X\u001b[49m\u001b[43m(\u001b[49m\n\u001b[1;32m     81\u001b[0m \u001b[43m    \u001b[49m\u001b[43mX\u001b[49m\u001b[43m,\u001b[49m\u001b[43m \u001b[49m\u001b[43mforce_all_finite\u001b[49m\u001b[38;5;241;43m=\u001b[39;49m\u001b[43mforce_all_finite\u001b[49m\n\u001b[1;32m     82\u001b[0m \u001b[43m\u001b[49m\u001b[43m)\u001b[49m\n\u001b[1;32m     83\u001b[0m \u001b[38;5;28mself\u001b[39m\u001b[38;5;241m.\u001b[39mn_features_in_ \u001b[38;5;241m=\u001b[39m n_features\n\u001b[1;32m     85\u001b[0m \u001b[38;5;28;01mif\u001b[39;00m \u001b[38;5;28mself\u001b[39m\u001b[38;5;241m.\u001b[39mcategories \u001b[38;5;241m!=\u001b[39m \u001b[38;5;124m\"\u001b[39m\u001b[38;5;124mauto\u001b[39m\u001b[38;5;124m\"\u001b[39m:\n",
      "File \u001b[0;32m/opt/homebrew/Caskroom/miniforge/base/envs/dev/lib/python3.10/site-packages/sklearn/preprocessing/_encoders.py:45\u001b[0m, in \u001b[0;36m_BaseEncoder._check_X\u001b[0;34m(self, X, force_all_finite)\u001b[0m\n\u001b[1;32m     32\u001b[0m \u001b[38;5;124;03m\"\"\"\u001b[39;00m\n\u001b[1;32m     33\u001b[0m \u001b[38;5;124;03mPerform custom check_array:\u001b[39;00m\n\u001b[1;32m     34\u001b[0m \u001b[38;5;124;03m- convert list of strings to object dtype\u001b[39;00m\n\u001b[0;32m   (...)\u001b[0m\n\u001b[1;32m     41\u001b[0m \n\u001b[1;32m     42\u001b[0m \u001b[38;5;124;03m\"\"\"\u001b[39;00m\n\u001b[1;32m     43\u001b[0m \u001b[38;5;28;01mif\u001b[39;00m \u001b[38;5;129;01mnot\u001b[39;00m (\u001b[38;5;28mhasattr\u001b[39m(X, \u001b[38;5;124m\"\u001b[39m\u001b[38;5;124miloc\u001b[39m\u001b[38;5;124m\"\u001b[39m) \u001b[38;5;129;01mand\u001b[39;00m \u001b[38;5;28mgetattr\u001b[39m(X, \u001b[38;5;124m\"\u001b[39m\u001b[38;5;124mndim\u001b[39m\u001b[38;5;124m\"\u001b[39m, \u001b[38;5;241m0\u001b[39m) \u001b[38;5;241m==\u001b[39m \u001b[38;5;241m2\u001b[39m):\n\u001b[1;32m     44\u001b[0m     \u001b[38;5;66;03m# if not a dataframe, do normal check_array validation\u001b[39;00m\n\u001b[0;32m---> 45\u001b[0m     X_temp \u001b[38;5;241m=\u001b[39m \u001b[43mcheck_array\u001b[49m\u001b[43m(\u001b[49m\u001b[43mX\u001b[49m\u001b[43m,\u001b[49m\u001b[43m \u001b[49m\u001b[43mdtype\u001b[49m\u001b[38;5;241;43m=\u001b[39;49m\u001b[38;5;28;43;01mNone\u001b[39;49;00m\u001b[43m,\u001b[49m\u001b[43m \u001b[49m\u001b[43mforce_all_finite\u001b[49m\u001b[38;5;241;43m=\u001b[39;49m\u001b[43mforce_all_finite\u001b[49m\u001b[43m)\u001b[49m\n\u001b[1;32m     46\u001b[0m     \u001b[38;5;28;01mif\u001b[39;00m \u001b[38;5;129;01mnot\u001b[39;00m \u001b[38;5;28mhasattr\u001b[39m(X, \u001b[38;5;124m\"\u001b[39m\u001b[38;5;124mdtype\u001b[39m\u001b[38;5;124m\"\u001b[39m) \u001b[38;5;129;01mand\u001b[39;00m np\u001b[38;5;241m.\u001b[39missubdtype(X_temp\u001b[38;5;241m.\u001b[39mdtype, np\u001b[38;5;241m.\u001b[39mstr_):\n\u001b[1;32m     47\u001b[0m         X \u001b[38;5;241m=\u001b[39m check_array(X, dtype\u001b[38;5;241m=\u001b[39m\u001b[38;5;28mobject\u001b[39m, force_all_finite\u001b[38;5;241m=\u001b[39mforce_all_finite)\n",
      "File \u001b[0;32m/opt/homebrew/Caskroom/miniforge/base/envs/dev/lib/python3.10/site-packages/sklearn/utils/validation.py:879\u001b[0m, in \u001b[0;36mcheck_array\u001b[0;34m(array, accept_sparse, accept_large_sparse, dtype, order, copy, force_all_finite, ensure_2d, allow_nd, ensure_min_samples, ensure_min_features, estimator, input_name)\u001b[0m\n\u001b[1;32m    877\u001b[0m     \u001b[38;5;66;03m# If input is 1D raise error\u001b[39;00m\n\u001b[1;32m    878\u001b[0m     \u001b[38;5;28;01mif\u001b[39;00m array\u001b[38;5;241m.\u001b[39mndim \u001b[38;5;241m==\u001b[39m \u001b[38;5;241m1\u001b[39m:\n\u001b[0;32m--> 879\u001b[0m         \u001b[38;5;28;01mraise\u001b[39;00m \u001b[38;5;167;01mValueError\u001b[39;00m(\n\u001b[1;32m    880\u001b[0m             \u001b[38;5;124m\"\u001b[39m\u001b[38;5;124mExpected 2D array, got 1D array instead:\u001b[39m\u001b[38;5;130;01m\\n\u001b[39;00m\u001b[38;5;124marray=\u001b[39m\u001b[38;5;132;01m{}\u001b[39;00m\u001b[38;5;124m.\u001b[39m\u001b[38;5;130;01m\\n\u001b[39;00m\u001b[38;5;124m\"\u001b[39m\n\u001b[1;32m    881\u001b[0m             \u001b[38;5;124m\"\u001b[39m\u001b[38;5;124mReshape your data either using array.reshape(-1, 1) if \u001b[39m\u001b[38;5;124m\"\u001b[39m\n\u001b[1;32m    882\u001b[0m             \u001b[38;5;124m\"\u001b[39m\u001b[38;5;124myour data has a single feature or array.reshape(1, -1) \u001b[39m\u001b[38;5;124m\"\u001b[39m\n\u001b[1;32m    883\u001b[0m             \u001b[38;5;124m\"\u001b[39m\u001b[38;5;124mif it contains a single sample.\u001b[39m\u001b[38;5;124m\"\u001b[39m\u001b[38;5;241m.\u001b[39mformat(array)\n\u001b[1;32m    884\u001b[0m         )\n\u001b[1;32m    886\u001b[0m \u001b[38;5;28;01mif\u001b[39;00m dtype_numeric \u001b[38;5;129;01mand\u001b[39;00m array\u001b[38;5;241m.\u001b[39mdtype\u001b[38;5;241m.\u001b[39mkind \u001b[38;5;129;01min\u001b[39;00m \u001b[38;5;124m\"\u001b[39m\u001b[38;5;124mUSV\u001b[39m\u001b[38;5;124m\"\u001b[39m:\n\u001b[1;32m    887\u001b[0m     \u001b[38;5;28;01mraise\u001b[39;00m \u001b[38;5;167;01mValueError\u001b[39;00m(\n\u001b[1;32m    888\u001b[0m         \u001b[38;5;124m\"\u001b[39m\u001b[38;5;124mdtype=\u001b[39m\u001b[38;5;124m'\u001b[39m\u001b[38;5;124mnumeric\u001b[39m\u001b[38;5;124m'\u001b[39m\u001b[38;5;124m is not compatible with arrays of bytes/strings.\u001b[39m\u001b[38;5;124m\"\u001b[39m\n\u001b[1;32m    889\u001b[0m         \u001b[38;5;124m\"\u001b[39m\u001b[38;5;124mConvert your data to numeric values explicitly instead.\u001b[39m\u001b[38;5;124m\"\u001b[39m\n\u001b[1;32m    890\u001b[0m     )\n",
      "\u001b[0;31mValueError\u001b[0m: Expected 2D array, got 1D array instead:\narray=['Manual' 'Manual' 'Manual' ... 'Manual' 'Manual' 'Manual'].\nReshape your data either using array.reshape(-1, 1) if your data has a single feature or array.reshape(1, -1) if it contains a single sample."
     ]
    }
   ],
   "source": [
    "enc = OneHotEncoder(handle_unknown='ignore')\n",
    "enc.fit_transform(df[\"Transmission\"])"
   ]
  },
  {
   "cell_type": "code",
   "execution_count": 41,
   "id": "aef95e33-296a-4177-8fd5-fd5af04a9806",
   "metadata": {},
   "outputs": [],
   "source": [
    "X, y = df_encoded.drop(columns=\"Price\"), df_encoded[\"Price\"]\n",
    "X_train, X_test, y_train, y_test = train_test_split(X, y, test_size = 0.3, random_state = 42, shuffle = True)"
   ]
  },
  {
   "cell_type": "markdown",
   "id": "9fbc36ea-23bf-4db8-9de3-3f23ba97afdf",
   "metadata": {},
   "source": [
    "## Decision Tree"
   ]
  },
  {
   "cell_type": "code",
   "execution_count": 42,
   "id": "0a37cb6b-5826-4af3-855a-88852b337ce5",
   "metadata": {
    "executionInfo": {
     "elapsed": 562,
     "status": "ok",
     "timestamp": 1671793259718,
     "user": {
      "displayName": "Emircan Erol",
      "userId": "01489677019251818038"
     },
     "user_tz": -180
    },
    "id": "0a37cb6b-5826-4af3-855a-88852b337ce5"
   },
   "outputs": [],
   "source": [
    "dt = DecisionTreeRegressor(min_samples_leaf=50, random_state=42)"
   ]
  },
  {
   "cell_type": "code",
   "execution_count": 43,
   "id": "a5c9bad0-b28c-41c9-899f-5f3f4e646def",
   "metadata": {
    "id": "a5c9bad0-b28c-41c9-899f-5f3f4e646def",
    "tags": []
   },
   "outputs": [
    {
     "data": {
      "text/html": [
       "<style>#sk-container-id-1 {color: black;background-color: white;}#sk-container-id-1 pre{padding: 0;}#sk-container-id-1 div.sk-toggleable {background-color: white;}#sk-container-id-1 label.sk-toggleable__label {cursor: pointer;display: block;width: 100%;margin-bottom: 0;padding: 0.3em;box-sizing: border-box;text-align: center;}#sk-container-id-1 label.sk-toggleable__label-arrow:before {content: \"▸\";float: left;margin-right: 0.25em;color: #696969;}#sk-container-id-1 label.sk-toggleable__label-arrow:hover:before {color: black;}#sk-container-id-1 div.sk-estimator:hover label.sk-toggleable__label-arrow:before {color: black;}#sk-container-id-1 div.sk-toggleable__content {max-height: 0;max-width: 0;overflow: hidden;text-align: left;background-color: #f0f8ff;}#sk-container-id-1 div.sk-toggleable__content pre {margin: 0.2em;color: black;border-radius: 0.25em;background-color: #f0f8ff;}#sk-container-id-1 input.sk-toggleable__control:checked~div.sk-toggleable__content {max-height: 200px;max-width: 100%;overflow: auto;}#sk-container-id-1 input.sk-toggleable__control:checked~label.sk-toggleable__label-arrow:before {content: \"▾\";}#sk-container-id-1 div.sk-estimator input.sk-toggleable__control:checked~label.sk-toggleable__label {background-color: #d4ebff;}#sk-container-id-1 div.sk-label input.sk-toggleable__control:checked~label.sk-toggleable__label {background-color: #d4ebff;}#sk-container-id-1 input.sk-hidden--visually {border: 0;clip: rect(1px 1px 1px 1px);clip: rect(1px, 1px, 1px, 1px);height: 1px;margin: -1px;overflow: hidden;padding: 0;position: absolute;width: 1px;}#sk-container-id-1 div.sk-estimator {font-family: monospace;background-color: #f0f8ff;border: 1px dotted black;border-radius: 0.25em;box-sizing: border-box;margin-bottom: 0.5em;}#sk-container-id-1 div.sk-estimator:hover {background-color: #d4ebff;}#sk-container-id-1 div.sk-parallel-item::after {content: \"\";width: 100%;border-bottom: 1px solid gray;flex-grow: 1;}#sk-container-id-1 div.sk-label:hover label.sk-toggleable__label {background-color: #d4ebff;}#sk-container-id-1 div.sk-serial::before {content: \"\";position: absolute;border-left: 1px solid gray;box-sizing: border-box;top: 0;bottom: 0;left: 50%;z-index: 0;}#sk-container-id-1 div.sk-serial {display: flex;flex-direction: column;align-items: center;background-color: white;padding-right: 0.2em;padding-left: 0.2em;position: relative;}#sk-container-id-1 div.sk-item {position: relative;z-index: 1;}#sk-container-id-1 div.sk-parallel {display: flex;align-items: stretch;justify-content: center;background-color: white;position: relative;}#sk-container-id-1 div.sk-item::before, #sk-container-id-1 div.sk-parallel-item::before {content: \"\";position: absolute;border-left: 1px solid gray;box-sizing: border-box;top: 0;bottom: 0;left: 50%;z-index: -1;}#sk-container-id-1 div.sk-parallel-item {display: flex;flex-direction: column;z-index: 1;position: relative;background-color: white;}#sk-container-id-1 div.sk-parallel-item:first-child::after {align-self: flex-end;width: 50%;}#sk-container-id-1 div.sk-parallel-item:last-child::after {align-self: flex-start;width: 50%;}#sk-container-id-1 div.sk-parallel-item:only-child::after {width: 0;}#sk-container-id-1 div.sk-dashed-wrapped {border: 1px dashed gray;margin: 0 0.4em 0.5em 0.4em;box-sizing: border-box;padding-bottom: 0.4em;background-color: white;}#sk-container-id-1 div.sk-label label {font-family: monospace;font-weight: bold;display: inline-block;line-height: 1.2em;}#sk-container-id-1 div.sk-label-container {text-align: center;}#sk-container-id-1 div.sk-container {/* jupyter's `normalize.less` sets `[hidden] { display: none; }` but bootstrap.min.css set `[hidden] { display: none !important; }` so we also need the `!important` here to be able to override the default hidden behavior on the sphinx rendered scikit-learn.org. See: https://github.com/scikit-learn/scikit-learn/issues/21755 */display: inline-block !important;position: relative;}#sk-container-id-1 div.sk-text-repr-fallback {display: none;}</style><div id=\"sk-container-id-1\" class=\"sk-top-container\"><div class=\"sk-text-repr-fallback\"><pre>DecisionTreeRegressor(min_samples_leaf=50, random_state=42)</pre><b>In a Jupyter environment, please rerun this cell to show the HTML representation or trust the notebook. <br />On GitHub, the HTML representation is unable to render, please try loading this page with nbviewer.org.</b></div><div class=\"sk-container\" hidden><div class=\"sk-item\"><div class=\"sk-estimator sk-toggleable\"><input class=\"sk-toggleable__control sk-hidden--visually\" id=\"sk-estimator-id-1\" type=\"checkbox\" checked><label for=\"sk-estimator-id-1\" class=\"sk-toggleable__label sk-toggleable__label-arrow\">DecisionTreeRegressor</label><div class=\"sk-toggleable__content\"><pre>DecisionTreeRegressor(min_samples_leaf=50, random_state=42)</pre></div></div></div></div></div>"
      ],
      "text/plain": [
       "DecisionTreeRegressor(min_samples_leaf=50, random_state=42)"
      ]
     },
     "execution_count": 43,
     "metadata": {},
     "output_type": "execute_result"
    }
   ],
   "source": [
    "dt.fit(X_train, y_train)"
   ]
  },
  {
   "cell_type": "code",
   "execution_count": 44,
   "id": "c4b6d82b-9cfd-4ac0-a483-3e574c9433d9",
   "metadata": {
    "id": "c4b6d82b-9cfd-4ac0-a483-3e574c9433d9",
    "tags": []
   },
   "outputs": [
    {
     "data": {
      "text/plain": [
       "0.8490631513087468"
      ]
     },
     "execution_count": 44,
     "metadata": {},
     "output_type": "execute_result"
    }
   ],
   "source": [
    "dt.score(X_test, y_test)"
   ]
  },
  {
   "cell_type": "code",
   "execution_count": 45,
   "id": "c6f50865-fee3-407e-b558-cb05be52096a",
   "metadata": {},
   "outputs": [],
   "source": [
    "y_pred = dt.predict(X_test)"
   ]
  },
  {
   "cell_type": "code",
   "execution_count": 50,
   "id": "0b2b58c5-65e1-47a0-88b0-f57c2b6ae405",
   "metadata": {},
   "outputs": [
    {
     "data": {
      "text/plain": [
       "Kilometers_Driven     -0.968064\n",
       "Fuel_Type              0.000000\n",
       "Transmission           0.000000\n",
       "Owner_Type            -0.444686\n",
       "Mileage               -1.323669\n",
       "Engine                 2.239677\n",
       "Power                  2.348607\n",
       "Seats                  2.127601\n",
       "Price                 48.000000\n",
       "Brand                  1.000000\n",
       "Model                135.000000\n",
       "Longitude             -0.852731\n",
       "Latitude               0.070186\n",
       "Age                   -0.502336\n",
       "Name: 1562, dtype: float64"
      ]
     },
     "execution_count": 50,
     "metadata": {},
     "output_type": "execute_result"
    }
   ],
   "source": [
    "df_encoded.loc[1562]"
   ]
  },
  {
   "cell_type": "code",
   "execution_count": 31,
   "id": "d0589c7d-fc17-4991-b151-e90fdcaac359",
   "metadata": {
    "tags": []
   },
   "outputs": [
    {
     "data": {
      "text/plain": [
       "4413      0.477361\n",
       "10479     1.263151\n",
       "5035     -0.383140\n",
       "2612      4.435977\n",
       "1562     16.011000\n",
       "           ...    \n",
       "5611      0.444674\n",
       "1765     -0.055625\n",
       "5499     -0.933140\n",
       "2457      0.076296\n",
       "5668      0.738627\n",
       "Name: Price, Length: 3610, dtype: float64"
      ]
     },
     "execution_count": 31,
     "metadata": {},
     "output_type": "execute_result"
    }
   ],
   "source": [
    "y_pred - y_test"
   ]
  },
  {
   "cell_type": "code",
   "execution_count": 28,
   "id": "3318ca98-7695-44e8-8dfd-10d18b98a0b3",
   "metadata": {
    "id": "3318ca98-7695-44e8-8dfd-10d18b98a0b3",
    "outputId": "007d5de4-0220-4d19-9696-5b4b57325a59"
   },
   "outputs": [
    {
     "data": {
      "text/plain": [
       "19.886181367604586"
      ]
     },
     "execution_count": 28,
     "metadata": {},
     "output_type": "execute_result"
    }
   ],
   "source": [
    "mean_squared_error(y_pred, y_test)"
   ]
  },
  {
   "cell_type": "markdown",
   "id": "73db83b3-6566-4429-b186-955b0a182e35",
   "metadata": {
    "id": "73db83b3-6566-4429-b186-955b0a182e35",
    "tags": []
   },
   "source": [
    "## Random Forest"
   ]
  },
  {
   "cell_type": "code",
   "execution_count": null,
   "id": "df93cb66-6427-4788-a82c-d0f4ba15efc9",
   "metadata": {
    "id": "df93cb66-6427-4788-a82c-d0f4ba15efc9",
    "outputId": "2b36699d-0af9-4a2c-ee72-84e453f295aa"
   },
   "outputs": [
    {
     "data": {
      "text/plain": [
       "0.0455446484498858"
      ]
     },
     "execution_count": 259,
     "metadata": {},
     "output_type": "execute_result"
    }
   ],
   "source": [
    "reg = RandomForestRegressor(max_depth=30, random_state=42)\n",
    "reg.fit(X_train, y_train)\n",
    "y_pred = clf.predict(X_test)\n",
    "reg.score(X_test, y_test)"
   ]
  },
  {
   "cell_type": "code",
   "execution_count": null,
   "id": "5381dc56-084b-4ba8-b7e6-776dadf95c2c",
   "metadata": {
    "id": "5381dc56-084b-4ba8-b7e6-776dadf95c2c",
    "outputId": "3e596c39-789d-45a1-febf-14e02246ef1c"
   },
   "outputs": [
    {
     "data": {
      "text/plain": [
       "0.0455446484498858"
      ]
     },
     "execution_count": 260,
     "metadata": {},
     "output_type": "execute_result"
    }
   ],
   "source": [
    "mean_squared_error(y_pred, y_test)"
   ]
  },
  {
   "cell_type": "code",
   "execution_count": null,
   "id": "7cb4fae9-3d7d-42cc-8d70-648cc157bd6f",
   "metadata": {
    "id": "7cb4fae9-3d7d-42cc-8d70-648cc157bd6f"
   },
   "outputs": [],
   "source": [
    "rf_scores = dict()\n",
    "for i in range(1, 40):\n",
    "    clf = RandomForestClassifier(max_depth=i, random_state=42)\n",
    "    clf.fit(X_train, y_binned_train)\n",
    "    rf_scores[i] = clf.score(X_test, y_binned_test)"
   ]
  },
  {
   "cell_type": "code",
   "execution_count": null,
   "id": "4faa47a3-9c28-4e89-a1cd-f47bdd821626",
   "metadata": {
    "id": "4faa47a3-9c28-4e89-a1cd-f47bdd821626",
    "outputId": "590040d6-01a7-4a14-8724-4465fa45fd5a"
   },
   "outputs": [
    {
     "data": {
      "text/plain": [
       "Text(0, 0.5, 'Classification Score')"
      ]
     },
     "execution_count": 235,
     "metadata": {},
     "output_type": "execute_result"
    },
    {
     "data": {
      "image/png": "[encoded data removed]",
      "text/plain": [
       "<Figure size 432x288 with 1 Axes>"
      ]
     },
     "metadata": {
      "needs_background": "light"
     },
     "output_type": "display_data"
    }
   ],
   "source": [
    "plt.plot(rf_scores.keys(), rf_scores.values(), color=\"black\")\n",
    "plt.title(\"Random Forest\")\n",
    "plt.xlabel(\"Depth\")\n",
    "plt.ylabel(\"Classification Score\")"
   ]
  },
  {
   "cell_type": "markdown",
   "id": "858be223-6291-4750-b9a5-846b302310ef",
   "metadata": {
    "id": "858be223-6291-4750-b9a5-846b302310ef",
    "jp-MarkdownHeadingCollapsed": true,
    "tags": []
   },
   "source": [
    "# XGBOOST"
   ]
  },
  {
   "cell_type": "code",
   "execution_count": 39,
   "id": "MfVihMmQnK5F",
   "metadata": {
    "colab": {
     "base_uri": "https://localhost:8080/"
    },
    "collapsed": true,
    "executionInfo": {
     "elapsed": 3852,
     "status": "ok",
     "timestamp": 1671793989570,
     "user": {
      "displayName": "Emircan Erol",
      "userId": "01489677019251818038"
     },
     "user_tz": -180
    },
    "id": "MfVihMmQnK5F",
    "jupyter": {
     "outputs_hidden": true
    },
    "outputId": "b75a70b2-4918-43c6-cde2-201494cff434",
    "tags": []
   },
   "outputs": [
    {
     "name": "stdout",
     "output_type": "stream",
     "text": [
      "Looking in indexes: https://pypi.org/simple, https://us-python.pkg.dev/colab-wheels/public/simple/\n",
      "Requirement already satisfied: xgboost in /usr/local/lib/python3.8/dist-packages (1.7.2)\n",
      "Requirement already satisfied: numpy in /usr/local/lib/python3.8/dist-packages (from xgboost) (1.21.6)\n",
      "Requirement already satisfied: scipy in /usr/local/lib/python3.8/dist-packages (from xgboost) (1.7.3)\n"
     ]
    }
   ],
   "source": [
    "! pip install -U xgboost"
   ]
  },
  {
   "cell_type": "code",
   "execution_count": 179,
   "id": "4b80ccf3-e566-4962-965e-abc8573ffd89",
   "metadata": {},
   "outputs": [],
   "source": [
    "def xgboost(df):\n",
    "    X, y = df.drop(columns=['Price']), df['Price']\n",
    "    X_train, X_test, y_train, y_test = train_test_split(X, y, test_size=0.3, random_state=42, shuffle=True)\n",
    "    dtrain = xgb.DMatrix(X_train, y_train, enable_categorical=True)\n",
    "    dtest = xgb.DMatrix(X_test, y_test, enable_categorical=True)\n",
    "    evallist = [(dtrain, 'train'), (dtest, 'eval')]\n",
    "    xgbr = xgb.XGBRegressor(enable_categorical=True, tree_method=\"gpu_hist\", verbosity=0, random_state=seed)\n",
    "    xgbr.fit(X_train, y_train)\n",
    "    \n",
    "    # test\n",
    "    score = xgbr.score(X_test, y_test)\n",
    "    print(score)\n",
    "    y_pred = xgbr.predict(X_test)\n",
    "    mse = mean_squared_error(y_test, y_pred)\n",
    "    print(mse)\n",
    "    return xgbr"
   ]
  },
  {
   "cell_type": "code",
   "execution_count": 22,
   "id": "08e5e117-b51b-4d0e-92af-4ff3b1db8ed0",
   "metadata": {
    "colab": {
     "base_uri": "https://localhost:8080/",
     "height": 312
    },
    "executionInfo": {
     "elapsed": 415,
     "status": "ok",
     "timestamp": 1671793229925,
     "user": {
      "displayName": "Emircan Erol",
      "userId": "01489677019251818038"
     },
     "user_tz": -180
    },
    "id": "08e5e117-b51b-4d0e-92af-4ff3b1db8ed0",
    "outputId": "be00de90-c8bd-4462-cccb-7edfa23ffd22"
   },
   "outputs": [
    {
     "data": {
      "text/plain": [
       "<matplotlib.axes._subplots.AxesSubplot at 0x7ffaa6907040>"
      ]
     },
     "execution_count": 22,
     "metadata": {},
     "output_type": "execute_result"
    },
    {
     "data": {
      "image/png": "[encoded data removed]",
      "text/plain": [
       "<Figure size 432x288 with 1 Axes>"
      ]
     },
     "metadata": {
      "needs_background": "light"
     },
     "output_type": "display_data"
    }
   ],
   "source": [
    "xgbr = xgboost(df)\n",
    "xgb.plot_importance(xgbr)"
   ]
  },
  {
   "cell_type": "markdown",
   "id": "89179a6c-3594-4180-870d-3d607c781471",
   "metadata": {
    "id": "89179a6c-3594-4180-870d-3d607c781471",
    "jp-MarkdownHeadingCollapsed": true,
    "tags": []
   },
   "source": [
    "# XGBOOST with PCA"
   ]
  },
  {
   "cell_type": "code",
   "execution_count": null,
   "id": "12dc9a03-2bff-43fa-99b3-a4060d6ced54",
   "metadata": {
    "id": "12dc9a03-2bff-43fa-99b3-a4060d6ced54"
   },
   "outputs": [],
   "source": [
    "mse = dict()\n",
    "score = dict()\n",
    "for n in range(1, 13):\n",
    "    pca = PCA(n_components = n)\n",
    "    pca.fit(X)\n",
    "\n",
    "    X_pca = pca.transform(X)\n",
    "    X_train, X_test, y_train, y_test = train_test_split(X_pca, y, test_size = 0.3, random_state = 42, shuffle = True)\n",
    "    dtrain = xgb.DMatrix(X_train, label=y_train)\n",
    "    dtest = xgb.DMatrix(X_test, label=y_test)\n",
    "    evallist = [(dtrain, 'train'), (dtest, 'eval')]\n",
    "    xgbr = xgb.XGBRegressor(verbosity=0) \n",
    "    xgbr.fit(X_train, y_train)\n",
    "    score[n] = xgbr.score(X_test, y_test)\n",
    "    y_pred = xgbr.predict(X_test)\n",
    "    mse[n] = mean_squared_error(y_test, y_pred)\n",
    "    "
   ]
  },
  {
   "cell_type": "code",
   "execution_count": null,
   "id": "758e1683-1ade-455a-a035-eb53633f797c",
   "metadata": {
    "id": "758e1683-1ade-455a-a035-eb53633f797c",
    "outputId": "8389e480-7e22-4a62-9de8-aebdd9031e94"
   },
   "outputs": [
    {
     "data": {
      "text/plain": [
       "Text(0.5, 1.0, 'PCA')"
      ]
     },
     "execution_count": 241,
     "metadata": {},
     "output_type": "execute_result"
    },
    {
     "data": {
      "image/png": "[encoded data removed]",
      "text/plain": [
       "<Figure size 432x288 with 1 Axes>"
      ]
     },
     "metadata": {
      "needs_background": "light"
     },
     "output_type": "display_data"
    }
   ],
   "source": [
    "plt.plot(mse.keys(), mse.values(), color=\"black\")\n",
    "plt.xlabel(\"Dimension\")\n",
    "plt.ylabel(\"MSE\")\n",
    "plt.title(\"PCA\")"
   ]
  },
  {
   "cell_type": "code",
   "execution_count": null,
   "id": "ad8c4a7a-ae49-46c8-97ec-1cf0f5148fae",
   "metadata": {},
   "outputs": [],
   "source": []
  }
 ],
 "metadata": {
  "accelerator": "GPU",
  "colab": {
   "collapsed_sections": [
    "508adb9d-fde1-4595-9466-355ac5fc6fd7",
    "73db83b3-6566-4429-b186-955b0a182e35"
   ],
   "provenance": []
  },
  "gpuClass": "standard",
  "kernelspec": {
   "display_name": "Python 3 (ipykernel)",
   "language": "python",
   "name": "python3"
  },
  "language_info": {
   "codemirror_mode": {
    "name": "ipython",
    "version": 3
   },
   "file_extension": ".py",
   "mimetype": "text/x-python",
   "name": "python",
   "nbconvert_exporter": "python",
   "pygments_lexer": "ipython3",
   "version": "3.10.0"
  }
 },
 "nbformat": 4,
 "nbformat_minor": 5
}
