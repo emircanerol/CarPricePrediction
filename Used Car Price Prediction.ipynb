{
 "cells": [
  {
   "cell_type": "code",
   "execution_count": 1,
   "id": "874241e4-76e3-484b-af70-bba5f6be7a37",
   "metadata": {},
   "outputs": [],
   "source": [
    "import numpy as np\n",
    "import pandas as pd\n",
    "from matplotlib import pyplot as plt\n",
    "import seaborn as sns"
   ]
  },
  {
   "cell_type": "code",
   "execution_count": 253,
   "id": "77c03fc5-1267-4391-8324-f5ee1022992b",
   "metadata": {},
   "outputs": [],
   "source": [
    "#Scikit-learn modules\n",
    "from sklearn.tree  import DecisionTreeRegressor\n",
    "from sklearn.ensemble import RandomForestRegressor\n",
    "from sklearn.model_selection import train_test_split\n",
    "from sklearn.preprocessing import MinMaxScaler, StandardScaler, LabelEncoder\n",
    "from sklearn import metrics\n",
    "from sklearn.preprocessing import LabelEncoder\n",
    "from sklearn.impute import KNNImputer\n",
    "from sklearn.model_selection import cross_val_score, KFold\n",
    "from sklearn.metrics import mean_squared_error\n",
    "from sklearn.ensemble import RandomForestClassifier\n",
    "from sklearn.decomposition import PCA\n",
    "import statistics\n",
    "import xgboost as xgb"
   ]
  },
  {
   "cell_type": "code",
   "execution_count": 39,
   "id": "a77e22b1-f71f-4ab5-b3cc-61aae049c49d",
   "metadata": {},
   "outputs": [],
   "source": [
    "train = pd.read_csv(\"train-data.csv\")\n",
    "test = pd.read_csv(\"train-data.csv\")"
   ]
  },
  {
   "cell_type": "code",
   "execution_count": 40,
   "id": "206ebee9-0161-4e22-9154-a272f8c40d91",
   "metadata": {},
   "outputs": [],
   "source": [
    "df = pd.concat([train, test], ignore_index=True)"
   ]
  },
  {
   "cell_type": "code",
   "execution_count": 41,
   "id": "d5036a3e-be12-46f2-ad2d-12b59e2f36db",
   "metadata": {
    "tags": []
   },
   "outputs": [
    {
     "data": {
      "text/plain": [
       "Unnamed: 0               0\n",
       "Name                     0\n",
       "Location                 0\n",
       "Year                     0\n",
       "Kilometers_Driven        0\n",
       "Fuel_Type                0\n",
       "Transmission             0\n",
       "Owner_Type               0\n",
       "Mileage                  4\n",
       "Engine                  72\n",
       "Power                   72\n",
       "Seats                   84\n",
       "New_Price            10390\n",
       "Price                    0\n",
       "dtype: int64"
      ]
     },
     "execution_count": 41,
     "metadata": {},
     "output_type": "execute_result"
    }
   ],
   "source": [
    "df.isna().sum()"
   ]
  },
  {
   "cell_type": "code",
   "execution_count": 42,
   "id": "bc22735f-9207-4861-9462-411ed144b74c",
   "metadata": {},
   "outputs": [
    {
     "data": {
      "text/html": [
       "<div>\n",
       "<style scoped>\n",
       "    .dataframe tbody tr th:only-of-type {\n",
       "        vertical-align: middle;\n",
       "    }\n",
       "\n",
       "    .dataframe tbody tr th {\n",
       "        vertical-align: top;\n",
       "    }\n",
       "\n",
       "    .dataframe thead th {\n",
       "        text-align: right;\n",
       "    }\n",
       "</style>\n",
       "<table border=\"1\" class=\"dataframe\">\n",
       "  <thead>\n",
       "    <tr style=\"text-align: right;\">\n",
       "      <th></th>\n",
       "      <th>Unnamed: 0</th>\n",
       "      <th>Name</th>\n",
       "      <th>Location</th>\n",
       "      <th>Year</th>\n",
       "      <th>Kilometers_Driven</th>\n",
       "      <th>Fuel_Type</th>\n",
       "      <th>Transmission</th>\n",
       "      <th>Owner_Type</th>\n",
       "      <th>Mileage</th>\n",
       "      <th>Engine</th>\n",
       "      <th>Power</th>\n",
       "      <th>Seats</th>\n",
       "      <th>New_Price</th>\n",
       "      <th>Price</th>\n",
       "    </tr>\n",
       "  </thead>\n",
       "  <tbody>\n",
       "    <tr>\n",
       "      <th>0</th>\n",
       "      <td>0</td>\n",
       "      <td>Maruti Wagon R LXI CNG</td>\n",
       "      <td>Mumbai</td>\n",
       "      <td>2010</td>\n",
       "      <td>72000</td>\n",
       "      <td>CNG</td>\n",
       "      <td>Manual</td>\n",
       "      <td>First</td>\n",
       "      <td>26.6 km/kg</td>\n",
       "      <td>998 CC</td>\n",
       "      <td>58.16 bhp</td>\n",
       "      <td>5.0</td>\n",
       "      <td>NaN</td>\n",
       "      <td>1.75</td>\n",
       "    </tr>\n",
       "    <tr>\n",
       "      <th>1</th>\n",
       "      <td>1</td>\n",
       "      <td>Hyundai Creta 1.6 CRDi SX Option</td>\n",
       "      <td>Pune</td>\n",
       "      <td>2015</td>\n",
       "      <td>41000</td>\n",
       "      <td>Diesel</td>\n",
       "      <td>Manual</td>\n",
       "      <td>First</td>\n",
       "      <td>19.67 kmpl</td>\n",
       "      <td>1582 CC</td>\n",
       "      <td>126.2 bhp</td>\n",
       "      <td>5.0</td>\n",
       "      <td>NaN</td>\n",
       "      <td>12.50</td>\n",
       "    </tr>\n",
       "    <tr>\n",
       "      <th>2</th>\n",
       "      <td>2</td>\n",
       "      <td>Honda Jazz V</td>\n",
       "      <td>Chennai</td>\n",
       "      <td>2011</td>\n",
       "      <td>46000</td>\n",
       "      <td>Petrol</td>\n",
       "      <td>Manual</td>\n",
       "      <td>First</td>\n",
       "      <td>18.2 kmpl</td>\n",
       "      <td>1199 CC</td>\n",
       "      <td>88.7 bhp</td>\n",
       "      <td>5.0</td>\n",
       "      <td>8.61 Lakh</td>\n",
       "      <td>4.50</td>\n",
       "    </tr>\n",
       "    <tr>\n",
       "      <th>3</th>\n",
       "      <td>3</td>\n",
       "      <td>Maruti Ertiga VDI</td>\n",
       "      <td>Chennai</td>\n",
       "      <td>2012</td>\n",
       "      <td>87000</td>\n",
       "      <td>Diesel</td>\n",
       "      <td>Manual</td>\n",
       "      <td>First</td>\n",
       "      <td>20.77 kmpl</td>\n",
       "      <td>1248 CC</td>\n",
       "      <td>88.76 bhp</td>\n",
       "      <td>7.0</td>\n",
       "      <td>NaN</td>\n",
       "      <td>6.00</td>\n",
       "    </tr>\n",
       "    <tr>\n",
       "      <th>4</th>\n",
       "      <td>4</td>\n",
       "      <td>Audi A4 New 2.0 TDI Multitronic</td>\n",
       "      <td>Coimbatore</td>\n",
       "      <td>2013</td>\n",
       "      <td>40670</td>\n",
       "      <td>Diesel</td>\n",
       "      <td>Automatic</td>\n",
       "      <td>Second</td>\n",
       "      <td>15.2 kmpl</td>\n",
       "      <td>1968 CC</td>\n",
       "      <td>140.8 bhp</td>\n",
       "      <td>5.0</td>\n",
       "      <td>NaN</td>\n",
       "      <td>17.74</td>\n",
       "    </tr>\n",
       "  </tbody>\n",
       "</table>\n",
       "</div>"
      ],
      "text/plain": [
       "   Unnamed: 0                              Name    Location  Year  \\\n",
       "0           0            Maruti Wagon R LXI CNG      Mumbai  2010   \n",
       "1           1  Hyundai Creta 1.6 CRDi SX Option        Pune  2015   \n",
       "2           2                      Honda Jazz V     Chennai  2011   \n",
       "3           3                 Maruti Ertiga VDI     Chennai  2012   \n",
       "4           4   Audi A4 New 2.0 TDI Multitronic  Coimbatore  2013   \n",
       "\n",
       "   Kilometers_Driven Fuel_Type Transmission Owner_Type     Mileage   Engine  \\\n",
       "0              72000       CNG       Manual      First  26.6 km/kg   998 CC   \n",
       "1              41000    Diesel       Manual      First  19.67 kmpl  1582 CC   \n",
       "2              46000    Petrol       Manual      First   18.2 kmpl  1199 CC   \n",
       "3              87000    Diesel       Manual      First  20.77 kmpl  1248 CC   \n",
       "4              40670    Diesel    Automatic     Second   15.2 kmpl  1968 CC   \n",
       "\n",
       "       Power  Seats  New_Price  Price  \n",
       "0  58.16 bhp    5.0        NaN   1.75  \n",
       "1  126.2 bhp    5.0        NaN  12.50  \n",
       "2   88.7 bhp    5.0  8.61 Lakh   4.50  \n",
       "3  88.76 bhp    7.0        NaN   6.00  \n",
       "4  140.8 bhp    5.0        NaN  17.74  "
      ]
     },
     "execution_count": 42,
     "metadata": {},
     "output_type": "execute_result"
    }
   ],
   "source": [
    "df.head()"
   ]
  },
  {
   "cell_type": "code",
   "execution_count": 43,
   "id": "07bfffb4-f69d-47eb-b051-eb48cc67b4c1",
   "metadata": {},
   "outputs": [],
   "source": [
    "location_dict = {\n",
    "        'Mumbai':(19.07, 72.87),\n",
    "        'Pune':(18.52, 73.85),\n",
    "        'Chennai':(13.08, 80.27),\n",
    "        'Coimbatore':(11.01, 76.95),\n",
    "        'Hyderabad': (17.38, 78.48),\n",
    "        'Jaipur':(26.91, 75.78),\n",
    "        'Kochi':(9.93, 76.26),\n",
    "        'Kolkata':(22.57, 88.36),\n",
    "        'Delhi':(28.70, 77.10),\n",
    "        'Bangalore':(12.97, 77.59),\n",
    "        'Ahmedabad':(23.02, 72.57)\n",
    "        }\n",
    "\n",
    "def preprocess(x):\n",
    "    cc_str = str(x[\"Engine\"])[:-3]\n",
    "    if cc_str != \"\":\n",
    "        x[\"Engine\"] = int(cc_str)\n",
    "    # 0 is out of domain\n",
    "    # 0 will change with median\n",
    "    \n",
    "    tmp = x[\"Name\"].split()\n",
    "    x[\"Brand\"] = tmp[0]\n",
    "    x[\"Model\"] = tmp[1]\n",
    "    \n",
    "    tmp = location_dict[x[\"Location\"]]\n",
    "    x[\"Longitude\"] = tmp[0]\n",
    "    x[\"Latitude\"] = tmp[1]\n",
    "    \n",
    "    if x[\"Power\"] != \"\" and x[\"Power\"] != \"null bhp\":\n",
    "        power_str = str(x[\"Power\"]).split()[0]\n",
    "        x[\"Power\"] = float(power_str)\n",
    "    else: x[\"Power\"] = 0\n",
    "    \n",
    "    if x[\"Mileage\"] != \"\":\n",
    "        power_str = str(x[\"Mileage\"]).split()[0]\n",
    "        x[\"Mileage\"] = float(power_str)\n",
    "    else: x[\"Mileage\"] = 0\n",
    "    \n",
    "    x[\"Age\"] = 2019 - x[\"Year\"]\n",
    "    \n",
    "    if x[\"Owner_Type\"] == \"First\":\n",
    "        x[\"Owner_Type\"] = 1\n",
    "    elif x[\"Owner_Type\"] == \"Second\":\n",
    "        x[\"Owner_Type\"] = 2\n",
    "    elif x[\"Owner_Type\"] == \"Third\":\n",
    "        x[\"Owner_Type\"] = 3\n",
    "    elif x[\"Owner_Type\"] == \"Fourth & Above\":\n",
    "        x[\"Owner_Type\"] = 4\n",
    "        \n",
    "    if x[\"Fuel_Type\"] == \"CNG\" or x[\"Fuel_Type\"] == \"LPG\":\n",
    "        x[\"Fuel_Type\"] = \"Gas\"\n",
    "    return x"
   ]
  },
  {
   "cell_type": "code",
   "execution_count": 44,
   "id": "3e10e546-2417-4736-b13c-8046a79e5fc1",
   "metadata": {},
   "outputs": [],
   "source": [
    "df = df.apply(preprocess, axis=1)\n",
    "df.drop(columns=[\"Name\", \"Location\", \"Unnamed: 0\", \"Year\", \"New_Price\"], inplace=True)"
   ]
  },
  {
   "cell_type": "code",
   "execution_count": 45,
   "id": "f786477f-ef53-4f7f-bcd1-588e7105556e",
   "metadata": {},
   "outputs": [
    {
     "data": {
      "text/html": [
       "<div>\n",
       "<style scoped>\n",
       "    .dataframe tbody tr th:only-of-type {\n",
       "        vertical-align: middle;\n",
       "    }\n",
       "\n",
       "    .dataframe tbody tr th {\n",
       "        vertical-align: top;\n",
       "    }\n",
       "\n",
       "    .dataframe thead th {\n",
       "        text-align: right;\n",
       "    }\n",
       "</style>\n",
       "<table border=\"1\" class=\"dataframe\">\n",
       "  <thead>\n",
       "    <tr style=\"text-align: right;\">\n",
       "      <th></th>\n",
       "      <th>Kilometers_Driven</th>\n",
       "      <th>Fuel_Type</th>\n",
       "      <th>Transmission</th>\n",
       "      <th>Owner_Type</th>\n",
       "      <th>Mileage</th>\n",
       "      <th>Engine</th>\n",
       "      <th>Power</th>\n",
       "      <th>Seats</th>\n",
       "      <th>Price</th>\n",
       "      <th>Brand</th>\n",
       "      <th>Model</th>\n",
       "      <th>Longitude</th>\n",
       "      <th>Latitude</th>\n",
       "      <th>Age</th>\n",
       "    </tr>\n",
       "  </thead>\n",
       "  <tbody>\n",
       "    <tr>\n",
       "      <th>0</th>\n",
       "      <td>72000</td>\n",
       "      <td>Gas</td>\n",
       "      <td>Manual</td>\n",
       "      <td>1</td>\n",
       "      <td>26.60</td>\n",
       "      <td>998.0</td>\n",
       "      <td>58.16</td>\n",
       "      <td>5.0</td>\n",
       "      <td>1.75</td>\n",
       "      <td>Maruti</td>\n",
       "      <td>Wagon</td>\n",
       "      <td>19.07</td>\n",
       "      <td>72.87</td>\n",
       "      <td>9</td>\n",
       "    </tr>\n",
       "    <tr>\n",
       "      <th>1</th>\n",
       "      <td>41000</td>\n",
       "      <td>Diesel</td>\n",
       "      <td>Manual</td>\n",
       "      <td>1</td>\n",
       "      <td>19.67</td>\n",
       "      <td>1582.0</td>\n",
       "      <td>126.20</td>\n",
       "      <td>5.0</td>\n",
       "      <td>12.50</td>\n",
       "      <td>Hyundai</td>\n",
       "      <td>Creta</td>\n",
       "      <td>18.52</td>\n",
       "      <td>73.85</td>\n",
       "      <td>4</td>\n",
       "    </tr>\n",
       "    <tr>\n",
       "      <th>2</th>\n",
       "      <td>46000</td>\n",
       "      <td>Petrol</td>\n",
       "      <td>Manual</td>\n",
       "      <td>1</td>\n",
       "      <td>18.20</td>\n",
       "      <td>1199.0</td>\n",
       "      <td>88.70</td>\n",
       "      <td>5.0</td>\n",
       "      <td>4.50</td>\n",
       "      <td>Honda</td>\n",
       "      <td>Jazz</td>\n",
       "      <td>13.08</td>\n",
       "      <td>80.27</td>\n",
       "      <td>8</td>\n",
       "    </tr>\n",
       "    <tr>\n",
       "      <th>3</th>\n",
       "      <td>87000</td>\n",
       "      <td>Diesel</td>\n",
       "      <td>Manual</td>\n",
       "      <td>1</td>\n",
       "      <td>20.77</td>\n",
       "      <td>1248.0</td>\n",
       "      <td>88.76</td>\n",
       "      <td>7.0</td>\n",
       "      <td>6.00</td>\n",
       "      <td>Maruti</td>\n",
       "      <td>Ertiga</td>\n",
       "      <td>13.08</td>\n",
       "      <td>80.27</td>\n",
       "      <td>7</td>\n",
       "    </tr>\n",
       "    <tr>\n",
       "      <th>4</th>\n",
       "      <td>40670</td>\n",
       "      <td>Diesel</td>\n",
       "      <td>Automatic</td>\n",
       "      <td>2</td>\n",
       "      <td>15.20</td>\n",
       "      <td>1968.0</td>\n",
       "      <td>140.80</td>\n",
       "      <td>5.0</td>\n",
       "      <td>17.74</td>\n",
       "      <td>Audi</td>\n",
       "      <td>A4</td>\n",
       "      <td>11.01</td>\n",
       "      <td>76.95</td>\n",
       "      <td>6</td>\n",
       "    </tr>\n",
       "    <tr>\n",
       "      <th>...</th>\n",
       "      <td>...</td>\n",
       "      <td>...</td>\n",
       "      <td>...</td>\n",
       "      <td>...</td>\n",
       "      <td>...</td>\n",
       "      <td>...</td>\n",
       "      <td>...</td>\n",
       "      <td>...</td>\n",
       "      <td>...</td>\n",
       "      <td>...</td>\n",
       "      <td>...</td>\n",
       "      <td>...</td>\n",
       "      <td>...</td>\n",
       "      <td>...</td>\n",
       "    </tr>\n",
       "    <tr>\n",
       "      <th>12033</th>\n",
       "      <td>27365</td>\n",
       "      <td>Diesel</td>\n",
       "      <td>Manual</td>\n",
       "      <td>1</td>\n",
       "      <td>28.40</td>\n",
       "      <td>1248.0</td>\n",
       "      <td>74.00</td>\n",
       "      <td>5.0</td>\n",
       "      <td>4.75</td>\n",
       "      <td>Maruti</td>\n",
       "      <td>Swift</td>\n",
       "      <td>28.70</td>\n",
       "      <td>77.10</td>\n",
       "      <td>5</td>\n",
       "    </tr>\n",
       "    <tr>\n",
       "      <th>12034</th>\n",
       "      <td>100000</td>\n",
       "      <td>Diesel</td>\n",
       "      <td>Manual</td>\n",
       "      <td>1</td>\n",
       "      <td>24.40</td>\n",
       "      <td>1120.0</td>\n",
       "      <td>71.00</td>\n",
       "      <td>5.0</td>\n",
       "      <td>4.00</td>\n",
       "      <td>Hyundai</td>\n",
       "      <td>Xcent</td>\n",
       "      <td>26.91</td>\n",
       "      <td>75.78</td>\n",
       "      <td>4</td>\n",
       "    </tr>\n",
       "    <tr>\n",
       "      <th>12035</th>\n",
       "      <td>55000</td>\n",
       "      <td>Diesel</td>\n",
       "      <td>Manual</td>\n",
       "      <td>2</td>\n",
       "      <td>14.00</td>\n",
       "      <td>2498.0</td>\n",
       "      <td>112.00</td>\n",
       "      <td>8.0</td>\n",
       "      <td>2.90</td>\n",
       "      <td>Mahindra</td>\n",
       "      <td>Xylo</td>\n",
       "      <td>26.91</td>\n",
       "      <td>75.78</td>\n",
       "      <td>7</td>\n",
       "    </tr>\n",
       "    <tr>\n",
       "      <th>12036</th>\n",
       "      <td>46000</td>\n",
       "      <td>Petrol</td>\n",
       "      <td>Manual</td>\n",
       "      <td>1</td>\n",
       "      <td>18.90</td>\n",
       "      <td>998.0</td>\n",
       "      <td>67.10</td>\n",
       "      <td>5.0</td>\n",
       "      <td>2.65</td>\n",
       "      <td>Maruti</td>\n",
       "      <td>Wagon</td>\n",
       "      <td>22.57</td>\n",
       "      <td>88.36</td>\n",
       "      <td>6</td>\n",
       "    </tr>\n",
       "    <tr>\n",
       "      <th>12037</th>\n",
       "      <td>47000</td>\n",
       "      <td>Diesel</td>\n",
       "      <td>Manual</td>\n",
       "      <td>1</td>\n",
       "      <td>25.44</td>\n",
       "      <td>936.0</td>\n",
       "      <td>57.60</td>\n",
       "      <td>5.0</td>\n",
       "      <td>2.50</td>\n",
       "      <td>Chevrolet</td>\n",
       "      <td>Beat</td>\n",
       "      <td>17.38</td>\n",
       "      <td>78.48</td>\n",
       "      <td>8</td>\n",
       "    </tr>\n",
       "  </tbody>\n",
       "</table>\n",
       "<p>12038 rows × 14 columns</p>\n",
       "</div>"
      ],
      "text/plain": [
       "       Kilometers_Driven Fuel_Type Transmission  Owner_Type  Mileage  Engine  \\\n",
       "0                  72000       Gas       Manual           1    26.60   998.0   \n",
       "1                  41000    Diesel       Manual           1    19.67  1582.0   \n",
       "2                  46000    Petrol       Manual           1    18.20  1199.0   \n",
       "3                  87000    Diesel       Manual           1    20.77  1248.0   \n",
       "4                  40670    Diesel    Automatic           2    15.20  1968.0   \n",
       "...                  ...       ...          ...         ...      ...     ...   \n",
       "12033              27365    Diesel       Manual           1    28.40  1248.0   \n",
       "12034             100000    Diesel       Manual           1    24.40  1120.0   \n",
       "12035              55000    Diesel       Manual           2    14.00  2498.0   \n",
       "12036              46000    Petrol       Manual           1    18.90   998.0   \n",
       "12037              47000    Diesel       Manual           1    25.44   936.0   \n",
       "\n",
       "        Power  Seats  Price      Brand   Model  Longitude  Latitude  Age  \n",
       "0       58.16    5.0   1.75     Maruti   Wagon      19.07     72.87    9  \n",
       "1      126.20    5.0  12.50    Hyundai   Creta      18.52     73.85    4  \n",
       "2       88.70    5.0   4.50      Honda    Jazz      13.08     80.27    8  \n",
       "3       88.76    7.0   6.00     Maruti  Ertiga      13.08     80.27    7  \n",
       "4      140.80    5.0  17.74       Audi      A4      11.01     76.95    6  \n",
       "...       ...    ...    ...        ...     ...        ...       ...  ...  \n",
       "12033   74.00    5.0   4.75     Maruti   Swift      28.70     77.10    5  \n",
       "12034   71.00    5.0   4.00    Hyundai   Xcent      26.91     75.78    4  \n",
       "12035  112.00    8.0   2.90   Mahindra    Xylo      26.91     75.78    7  \n",
       "12036   67.10    5.0   2.65     Maruti   Wagon      22.57     88.36    6  \n",
       "12037   57.60    5.0   2.50  Chevrolet    Beat      17.38     78.48    8  \n",
       "\n",
       "[12038 rows x 14 columns]"
      ]
     },
     "execution_count": 45,
     "metadata": {},
     "output_type": "execute_result"
    }
   ],
   "source": [
    "df"
   ]
  },
  {
   "cell_type": "code",
   "execution_count": 46,
   "id": "97ca323c-e566-4cc7-9d11-1f5db9e64560",
   "metadata": {},
   "outputs": [],
   "source": [
    "df.drop(df[df[\"Kilometers_Driven\"] == df[\"Kilometers_Driven\"].max()].index, inplace=True)\n",
    "df.drop(df[df[\"Fuel_Type\"] == \"Electric\"].index, inplace=True)"
   ]
  },
  {
   "cell_type": "code",
   "execution_count": 294,
   "id": "e8ef5f9a-5405-4bb0-a6f1-6e9fcbb51b11",
   "metadata": {},
   "outputs": [],
   "source": [
    "def fill_median(x):\n",
    "    # na is replaced with 0 previously\n",
    "    if x[\"Power\"] == 0:\n",
    "        x[\"Power\"] = train[\"Power\"].median()\n",
    "\n",
    "    if x[\"Mileage\"] == 0:\n",
    "        x[\"Mileage\"] = train[\"Mileage\"].median()\n",
    "    \n",
    "    return x\n",
    "train = train.apply(fill_median, axis=1)"
   ]
  },
  {
   "cell_type": "code",
   "execution_count": 47,
   "id": "f3d89887-cf67-4d17-9fd4-cabb30a14d20",
   "metadata": {},
   "outputs": [],
   "source": [
    "trans_le = LabelEncoder()\n",
    "df[\"Transmission\"] = trans_le.fit_transform(df[\"Transmission\"])\n",
    "\n",
    "ft_le = LabelEncoder()\n",
    "df[\"Fuel_Type\"] = ft_le.fit_transform(df[\"Fuel_Type\"])\n",
    "\n",
    "brand_le = LabelEncoder()\n",
    "df[\"Brand\"] = brand_le.fit_transform(df[\"Brand\"])\n",
    "\n",
    "model_le = LabelEncoder()\n",
    "df[\"Model\"] = model_le.fit_transform(df[\"Model\"])"
   ]
  },
  {
   "cell_type": "code",
   "execution_count": 100,
   "id": "c9c4ae2d-e529-4ae6-9324-edc2cb8d7ea5",
   "metadata": {},
   "outputs": [
    {
     "data": {
      "image/png": "[encoded data removed]",
      "text/plain": [
       "<Figure size 432x288 with 2 Axes>"
      ]
     },
     "metadata": {
      "needs_background": "light"
     },
     "output_type": "display_data"
    }
   ],
   "source": [
    "figure = sns.heatmap(df.corr())\n",
    "# Power and engine has a great correlation can be used together\n",
    "# Curse of dimensionality can be avoided"
   ]
  },
  {
   "cell_type": "code",
   "execution_count": 53,
   "id": "7c63e9ee-7590-471a-bbd1-abd7555ac4c3",
   "metadata": {},
   "outputs": [],
   "source": [
    "scaler = StandardScaler()\n",
    "\n",
    "df_scaled = pd.DataFrame(scaler.fit_transform(df), columns = df.columns)"
   ]
  },
  {
   "cell_type": "code",
   "execution_count": 54,
   "id": "8210957d-acb6-4b28-9d4b-dbe3533f02b1",
   "metadata": {},
   "outputs": [
    {
     "data": {
      "text/html": [
       "<div>\n",
       "<style scoped>\n",
       "    .dataframe tbody tr th:only-of-type {\n",
       "        vertical-align: middle;\n",
       "    }\n",
       "\n",
       "    .dataframe tbody tr th {\n",
       "        vertical-align: top;\n",
       "    }\n",
       "\n",
       "    .dataframe thead th {\n",
       "        text-align: right;\n",
       "    }\n",
       "</style>\n",
       "<table border=\"1\" class=\"dataframe\">\n",
       "  <thead>\n",
       "    <tr style=\"text-align: right;\">\n",
       "      <th></th>\n",
       "      <th>Kilometers_Driven</th>\n",
       "      <th>Fuel_Type</th>\n",
       "      <th>Transmission</th>\n",
       "      <th>Owner_Type</th>\n",
       "      <th>Mileage</th>\n",
       "      <th>Engine</th>\n",
       "      <th>Power</th>\n",
       "      <th>Seats</th>\n",
       "      <th>Price</th>\n",
       "      <th>Brand</th>\n",
       "      <th>Model</th>\n",
       "      <th>Longitude</th>\n",
       "      <th>Latitude</th>\n",
       "      <th>Age</th>\n",
       "    </tr>\n",
       "  </thead>\n",
       "  <tbody>\n",
       "    <tr>\n",
       "      <th>0</th>\n",
       "      <td>0.378244</td>\n",
       "      <td>0.076777</td>\n",
       "      <td>0.631977</td>\n",
       "      <td>-0.444686</td>\n",
       "      <td>1.847294</td>\n",
       "      <td>-1.037315</td>\n",
       "      <td>-0.957299</td>\n",
       "      <td>-0.344737</td>\n",
       "      <td>-0.691263</td>\n",
       "      <td>0.331409</td>\n",
       "      <td>1.229914</td>\n",
       "      <td>0.182624</td>\n",
       "      <td>-1.084610</td>\n",
       "      <td>1.026889</td>\n",
       "    </tr>\n",
       "    <tr>\n",
       "      <th>1</th>\n",
       "      <td>-0.440100</td>\n",
       "      <td>-0.931714</td>\n",
       "      <td>0.631977</td>\n",
       "      <td>-0.444686</td>\n",
       "      <td>0.334922</td>\n",
       "      <td>-0.065368</td>\n",
       "      <td>0.270238</td>\n",
       "      <td>-0.344737</td>\n",
       "      <td>0.271423</td>\n",
       "      <td>-0.662364</td>\n",
       "      <td>-0.839873</td>\n",
       "      <td>0.089273</td>\n",
       "      <td>-0.844843</td>\n",
       "      <td>-0.502336</td>\n",
       "    </tr>\n",
       "    <tr>\n",
       "      <th>2</th>\n",
       "      <td>-0.308109</td>\n",
       "      <td>1.085267</td>\n",
       "      <td>0.631977</td>\n",
       "      <td>-0.444686</td>\n",
       "      <td>0.014115</td>\n",
       "      <td>-0.702792</td>\n",
       "      <td>-0.406314</td>\n",
       "      <td>-0.344737</td>\n",
       "      <td>-0.444994</td>\n",
       "      <td>-0.786585</td>\n",
       "      <td>-0.144795</td>\n",
       "      <td>-0.834060</td>\n",
       "      <td>0.725875</td>\n",
       "      <td>0.721044</td>\n",
       "    </tr>\n",
       "    <tr>\n",
       "      <th>3</th>\n",
       "      <td>0.774217</td>\n",
       "      <td>-0.931714</td>\n",
       "      <td>0.631977</td>\n",
       "      <td>-0.444686</td>\n",
       "      <td>0.574981</td>\n",
       "      <td>-0.621241</td>\n",
       "      <td>-0.405232</td>\n",
       "      <td>2.127601</td>\n",
       "      <td>-0.310666</td>\n",
       "      <td>0.331409</td>\n",
       "      <td>-0.608180</td>\n",
       "      <td>-0.834060</td>\n",
       "      <td>0.725875</td>\n",
       "      <td>0.415199</td>\n",
       "    </tr>\n",
       "    <tr>\n",
       "      <th>4</th>\n",
       "      <td>-0.448811</td>\n",
       "      <td>-0.931714</td>\n",
       "      <td>-1.582336</td>\n",
       "      <td>1.746332</td>\n",
       "      <td>-0.640591</td>\n",
       "      <td>0.577049</td>\n",
       "      <td>0.533643</td>\n",
       "      <td>-0.344737</td>\n",
       "      <td>0.740676</td>\n",
       "      <td>-1.780358</td>\n",
       "      <td>-1.504058</td>\n",
       "      <td>-1.185402</td>\n",
       "      <td>-0.086397</td>\n",
       "      <td>0.109354</td>\n",
       "    </tr>\n",
       "    <tr>\n",
       "      <th>...</th>\n",
       "      <td>...</td>\n",
       "      <td>...</td>\n",
       "      <td>...</td>\n",
       "      <td>...</td>\n",
       "      <td>...</td>\n",
       "      <td>...</td>\n",
       "      <td>...</td>\n",
       "      <td>...</td>\n",
       "      <td>...</td>\n",
       "      <td>...</td>\n",
       "      <td>...</td>\n",
       "      <td>...</td>\n",
       "      <td>...</td>\n",
       "      <td>...</td>\n",
       "    </tr>\n",
       "    <tr>\n",
       "      <th>12027</th>\n",
       "      <td>-0.800039</td>\n",
       "      <td>-0.931714</td>\n",
       "      <td>0.631977</td>\n",
       "      <td>-0.444686</td>\n",
       "      <td>2.240118</td>\n",
       "      <td>-0.621241</td>\n",
       "      <td>-0.671523</td>\n",
       "      <td>-0.344737</td>\n",
       "      <td>-0.422606</td>\n",
       "      <td>0.331409</td>\n",
       "      <td>0.920991</td>\n",
       "      <td>1.817127</td>\n",
       "      <td>-0.049698</td>\n",
       "      <td>-0.196491</td>\n",
       "    </tr>\n",
       "    <tr>\n",
       "      <th>12028</th>\n",
       "      <td>1.117393</td>\n",
       "      <td>-0.931714</td>\n",
       "      <td>0.631977</td>\n",
       "      <td>-0.444686</td>\n",
       "      <td>1.367176</td>\n",
       "      <td>-0.834271</td>\n",
       "      <td>-0.725647</td>\n",
       "      <td>-0.344737</td>\n",
       "      <td>-0.489770</td>\n",
       "      <td>-0.662364</td>\n",
       "      <td>1.430714</td>\n",
       "      <td>1.513310</td>\n",
       "      <td>-0.372649</td>\n",
       "      <td>-0.502336</td>\n",
       "    </tr>\n",
       "    <tr>\n",
       "      <th>12029</th>\n",
       "      <td>-0.070525</td>\n",
       "      <td>-0.931714</td>\n",
       "      <td>0.631977</td>\n",
       "      <td>1.746332</td>\n",
       "      <td>-0.902474</td>\n",
       "      <td>1.459124</td>\n",
       "      <td>0.014050</td>\n",
       "      <td>3.363771</td>\n",
       "      <td>-0.588278</td>\n",
       "      <td>0.207187</td>\n",
       "      <td>1.461606</td>\n",
       "      <td>1.513310</td>\n",
       "      <td>-0.372649</td>\n",
       "      <td>0.415199</td>\n",
       "    </tr>\n",
       "    <tr>\n",
       "      <th>12030</th>\n",
       "      <td>-0.308109</td>\n",
       "      <td>1.085267</td>\n",
       "      <td>0.631977</td>\n",
       "      <td>-0.444686</td>\n",
       "      <td>0.166880</td>\n",
       "      <td>-1.037315</td>\n",
       "      <td>-0.796009</td>\n",
       "      <td>-0.344737</td>\n",
       "      <td>-0.610666</td>\n",
       "      <td>0.331409</td>\n",
       "      <td>1.229914</td>\n",
       "      <td>0.776680</td>\n",
       "      <td>2.705176</td>\n",
       "      <td>0.109354</td>\n",
       "    </tr>\n",
       "    <tr>\n",
       "      <th>12031</th>\n",
       "      <td>-0.281711</td>\n",
       "      <td>-0.931714</td>\n",
       "      <td>0.631977</td>\n",
       "      <td>-0.444686</td>\n",
       "      <td>1.594141</td>\n",
       "      <td>-1.140501</td>\n",
       "      <td>-0.967402</td>\n",
       "      <td>-0.344737</td>\n",
       "      <td>-0.624099</td>\n",
       "      <td>-1.407693</td>\n",
       "      <td>-1.256919</td>\n",
       "      <td>-0.104220</td>\n",
       "      <td>0.287933</td>\n",
       "      <td>0.721044</td>\n",
       "    </tr>\n",
       "  </tbody>\n",
       "</table>\n",
       "<p>12032 rows × 14 columns</p>\n",
       "</div>"
      ],
      "text/plain": [
       "       Kilometers_Driven  Fuel_Type  Transmission  Owner_Type   Mileage  \\\n",
       "0               0.378244   0.076777      0.631977   -0.444686  1.847294   \n",
       "1              -0.440100  -0.931714      0.631977   -0.444686  0.334922   \n",
       "2              -0.308109   1.085267      0.631977   -0.444686  0.014115   \n",
       "3               0.774217  -0.931714      0.631977   -0.444686  0.574981   \n",
       "4              -0.448811  -0.931714     -1.582336    1.746332 -0.640591   \n",
       "...                  ...        ...           ...         ...       ...   \n",
       "12027          -0.800039  -0.931714      0.631977   -0.444686  2.240118   \n",
       "12028           1.117393  -0.931714      0.631977   -0.444686  1.367176   \n",
       "12029          -0.070525  -0.931714      0.631977    1.746332 -0.902474   \n",
       "12030          -0.308109   1.085267      0.631977   -0.444686  0.166880   \n",
       "12031          -0.281711  -0.931714      0.631977   -0.444686  1.594141   \n",
       "\n",
       "         Engine     Power     Seats     Price     Brand     Model  Longitude  \\\n",
       "0     -1.037315 -0.957299 -0.344737 -0.691263  0.331409  1.229914   0.182624   \n",
       "1     -0.065368  0.270238 -0.344737  0.271423 -0.662364 -0.839873   0.089273   \n",
       "2     -0.702792 -0.406314 -0.344737 -0.444994 -0.786585 -0.144795  -0.834060   \n",
       "3     -0.621241 -0.405232  2.127601 -0.310666  0.331409 -0.608180  -0.834060   \n",
       "4      0.577049  0.533643 -0.344737  0.740676 -1.780358 -1.504058  -1.185402   \n",
       "...         ...       ...       ...       ...       ...       ...        ...   \n",
       "12027 -0.621241 -0.671523 -0.344737 -0.422606  0.331409  0.920991   1.817127   \n",
       "12028 -0.834271 -0.725647 -0.344737 -0.489770 -0.662364  1.430714   1.513310   \n",
       "12029  1.459124  0.014050  3.363771 -0.588278  0.207187  1.461606   1.513310   \n",
       "12030 -1.037315 -0.796009 -0.344737 -0.610666  0.331409  1.229914   0.776680   \n",
       "12031 -1.140501 -0.967402 -0.344737 -0.624099 -1.407693 -1.256919  -0.104220   \n",
       "\n",
       "       Latitude       Age  \n",
       "0     -1.084610  1.026889  \n",
       "1     -0.844843 -0.502336  \n",
       "2      0.725875  0.721044  \n",
       "3      0.725875  0.415199  \n",
       "4     -0.086397  0.109354  \n",
       "...         ...       ...  \n",
       "12027 -0.049698 -0.196491  \n",
       "12028 -0.372649 -0.502336  \n",
       "12029 -0.372649  0.415199  \n",
       "12030  2.705176  0.109354  \n",
       "12031  0.287933  0.721044  \n",
       "\n",
       "[12032 rows x 14 columns]"
      ]
     },
     "execution_count": 54,
     "metadata": {},
     "output_type": "execute_result"
    }
   ],
   "source": [
    "df_scaled"
   ]
  },
  {
   "cell_type": "code",
   "execution_count": 179,
   "id": "2d13642b-d3d1-4c3e-9a84-ca49f9ec366c",
   "metadata": {},
   "outputs": [],
   "source": [
    "df[\"Mileage\"] = df[\"Mileage\"].fillna(df[\"Mileage\"].median())"
   ]
  },
  {
   "cell_type": "code",
   "execution_count": 306,
   "id": "451bb3ae-a7bf-45f0-9804-40815ec0f772",
   "metadata": {},
   "outputs": [
    {
     "data": {
      "text/plain": [
       "Kilometers_Driven     0\n",
       "Fuel_Type             0\n",
       "Transmission          0\n",
       "Owner_Type            0\n",
       "Mileage               2\n",
       "Engine               36\n",
       "Power                36\n",
       "Seats                42\n",
       "Price                 0\n",
       "Brand                 0\n",
       "Model                 0\n",
       "Longitude             0\n",
       "Latitude              0\n",
       "Age                   0\n",
       "dtype: int64"
      ]
     },
     "execution_count": 306,
     "metadata": {},
     "output_type": "execute_result"
    }
   ],
   "source": [
    "train.isna().sum()"
   ]
  },
  {
   "cell_type": "code",
   "execution_count": 55,
   "id": "9be3f9d8-6a75-41b5-afbc-7fffabfb54c7",
   "metadata": {},
   "outputs": [
    {
     "data": {
      "text/plain": [
       "Kilometers_Driven    0\n",
       "Fuel_Type            0\n",
       "Transmission         0\n",
       "Owner_Type           0\n",
       "Mileage              0\n",
       "Engine               0\n",
       "Power                0\n",
       "Seats                0\n",
       "Price                0\n",
       "Brand                0\n",
       "Model                0\n",
       "Longitude            0\n",
       "Latitude             0\n",
       "Age                  0\n",
       "dtype: int64"
      ]
     },
     "execution_count": 55,
     "metadata": {},
     "output_type": "execute_result"
    }
   ],
   "source": [
    "imputer = KNNImputer(n_neighbors=1)\n",
    "imputed_data = imputer.fit_transform(df_scaled)  # impute all the missing data\n",
    "df_temp = pd.DataFrame(imputed_data)\n",
    "df_temp.columns = df_scaled.columns\n",
    "# df_x[2] = df_temp[2] # make changes only for specific column\n",
    "df_temp.isna().sum()"
   ]
  },
  {
   "cell_type": "code",
   "execution_count": 318,
   "id": "4807e6e5-383b-4e6b-adba-fd0049a93d9b",
   "metadata": {},
   "outputs": [
    {
     "data": {
      "text/plain": [
       "Kilometers_Driven    0\n",
       "Fuel_Type            0\n",
       "Transmission         0\n",
       "Owner_Type           0\n",
       "Mileage              0\n",
       "Engine               0\n",
       "Power                0\n",
       "Seats                0\n",
       "Price                0\n",
       "Brand                0\n",
       "Model                0\n",
       "Longitude            0\n",
       "Latitude             0\n",
       "Age                  0\n",
       "dtype: int64"
      ]
     },
     "execution_count": 318,
     "metadata": {},
     "output_type": "execute_result"
    }
   ],
   "source": [
    "imputed_data = imputer.transform(test)\n",
    "df_temp_test = pd.DataFrame(imputed_data)\n",
    "df_temp_test.columns = train.columns\n",
    "df_temp_test.isna().sum()"
   ]
  },
  {
   "cell_type": "code",
   "execution_count": 261,
   "id": "5f319c69-1e2d-4ea5-8d0b-bd9b036295f9",
   "metadata": {},
   "outputs": [],
   "source": [
    "X, y = df_temp.drop(columns=\"Price\"), df_temp[\"Price\"]"
   ]
  },
  {
   "cell_type": "code",
   "execution_count": 57,
   "id": "48da86c5-a033-4051-945b-e92817f2e2a4",
   "metadata": {},
   "outputs": [],
   "source": [
    "bin_num = 6\n",
    "y_binned = pd.qcut(y, q=bin_num, labels=np.arange(bin_num))"
   ]
  },
  {
   "cell_type": "code",
   "execution_count": 102,
   "id": "3e1bf6e8-a653-4c29-9ae2-3d948df31b80",
   "metadata": {},
   "outputs": [],
   "source": [
    "X_train, X_test, y_binned_train, y_binned_test = train_test_split(X, y_binned, test_size = 0.3, random_state = 42, shuffle = True)"
   ]
  },
  {
   "cell_type": "markdown",
   "id": "508adb9d-fde1-4595-9466-355ac5fc6fd7",
   "metadata": {},
   "source": [
    "# Decision Tree"
   ]
  },
  {
   "cell_type": "code",
   "execution_count": 263,
   "id": "0a37cb6b-5826-4af3-855a-88852b337ce5",
   "metadata": {},
   "outputs": [],
   "source": [
    "dt = DecisionTreeRegressor(min_samples_leaf=50, random_state=42)"
   ]
  },
  {
   "cell_type": "code",
   "execution_count": 264,
   "id": "a5c9bad0-b28c-41c9-899f-5f3f4e646def",
   "metadata": {
    "tags": []
   },
   "outputs": [
    {
     "data": {
      "text/html": [
       "<style>#sk-container-id-24 {color: black;background-color: white;}#sk-container-id-24 pre{padding: 0;}#sk-container-id-24 div.sk-toggleable {background-color: white;}#sk-container-id-24 label.sk-toggleable__label {cursor: pointer;display: block;width: 100%;margin-bottom: 0;padding: 0.3em;box-sizing: border-box;text-align: center;}#sk-container-id-24 label.sk-toggleable__label-arrow:before {content: \"▸\";float: left;margin-right: 0.25em;color: #696969;}#sk-container-id-24 label.sk-toggleable__label-arrow:hover:before {color: black;}#sk-container-id-24 div.sk-estimator:hover label.sk-toggleable__label-arrow:before {color: black;}#sk-container-id-24 div.sk-toggleable__content {max-height: 0;max-width: 0;overflow: hidden;text-align: left;background-color: #f0f8ff;}#sk-container-id-24 div.sk-toggleable__content pre {margin: 0.2em;color: black;border-radius: 0.25em;background-color: #f0f8ff;}#sk-container-id-24 input.sk-toggleable__control:checked~div.sk-toggleable__content {max-height: 200px;max-width: 100%;overflow: auto;}#sk-container-id-24 input.sk-toggleable__control:checked~label.sk-toggleable__label-arrow:before {content: \"▾\";}#sk-container-id-24 div.sk-estimator input.sk-toggleable__control:checked~label.sk-toggleable__label {background-color: #d4ebff;}#sk-container-id-24 div.sk-label input.sk-toggleable__control:checked~label.sk-toggleable__label {background-color: #d4ebff;}#sk-container-id-24 input.sk-hidden--visually {border: 0;clip: rect(1px 1px 1px 1px);clip: rect(1px, 1px, 1px, 1px);height: 1px;margin: -1px;overflow: hidden;padding: 0;position: absolute;width: 1px;}#sk-container-id-24 div.sk-estimator {font-family: monospace;background-color: #f0f8ff;border: 1px dotted black;border-radius: 0.25em;box-sizing: border-box;margin-bottom: 0.5em;}#sk-container-id-24 div.sk-estimator:hover {background-color: #d4ebff;}#sk-container-id-24 div.sk-parallel-item::after {content: \"\";width: 100%;border-bottom: 1px solid gray;flex-grow: 1;}#sk-container-id-24 div.sk-label:hover label.sk-toggleable__label {background-color: #d4ebff;}#sk-container-id-24 div.sk-serial::before {content: \"\";position: absolute;border-left: 1px solid gray;box-sizing: border-box;top: 0;bottom: 0;left: 50%;z-index: 0;}#sk-container-id-24 div.sk-serial {display: flex;flex-direction: column;align-items: center;background-color: white;padding-right: 0.2em;padding-left: 0.2em;position: relative;}#sk-container-id-24 div.sk-item {position: relative;z-index: 1;}#sk-container-id-24 div.sk-parallel {display: flex;align-items: stretch;justify-content: center;background-color: white;position: relative;}#sk-container-id-24 div.sk-item::before, #sk-container-id-24 div.sk-parallel-item::before {content: \"\";position: absolute;border-left: 1px solid gray;box-sizing: border-box;top: 0;bottom: 0;left: 50%;z-index: -1;}#sk-container-id-24 div.sk-parallel-item {display: flex;flex-direction: column;z-index: 1;position: relative;background-color: white;}#sk-container-id-24 div.sk-parallel-item:first-child::after {align-self: flex-end;width: 50%;}#sk-container-id-24 div.sk-parallel-item:last-child::after {align-self: flex-start;width: 50%;}#sk-container-id-24 div.sk-parallel-item:only-child::after {width: 0;}#sk-container-id-24 div.sk-dashed-wrapped {border: 1px dashed gray;margin: 0 0.4em 0.5em 0.4em;box-sizing: border-box;padding-bottom: 0.4em;background-color: white;}#sk-container-id-24 div.sk-label label {font-family: monospace;font-weight: bold;display: inline-block;line-height: 1.2em;}#sk-container-id-24 div.sk-label-container {text-align: center;}#sk-container-id-24 div.sk-container {/* jupyter's `normalize.less` sets `[hidden] { display: none; }` but bootstrap.min.css set `[hidden] { display: none !important; }` so we also need the `!important` here to be able to override the default hidden behavior on the sphinx rendered scikit-learn.org. See: https://github.com/scikit-learn/scikit-learn/issues/21755 */display: inline-block !important;position: relative;}#sk-container-id-24 div.sk-text-repr-fallback {display: none;}</style><div id=\"sk-container-id-24\" class=\"sk-top-container\"><div class=\"sk-text-repr-fallback\"><pre>DecisionTreeRegressor(min_samples_leaf=50, random_state=42)</pre><b>In a Jupyter environment, please rerun this cell to show the HTML representation or trust the notebook. <br />On GitHub, the HTML representation is unable to render, please try loading this page with nbviewer.org.</b></div><div class=\"sk-container\" hidden><div class=\"sk-item\"><div class=\"sk-estimator sk-toggleable\"><input class=\"sk-toggleable__control sk-hidden--visually\" id=\"sk-estimator-id-24\" type=\"checkbox\" checked><label for=\"sk-estimator-id-24\" class=\"sk-toggleable__label sk-toggleable__label-arrow\">DecisionTreeRegressor</label><div class=\"sk-toggleable__content\"><pre>DecisionTreeRegressor(min_samples_leaf=50, random_state=42)</pre></div></div></div></div></div>"
      ],
      "text/plain": [
       "DecisionTreeRegressor(min_samples_leaf=50, random_state=42)"
      ]
     },
     "execution_count": 264,
     "metadata": {},
     "output_type": "execute_result"
    }
   ],
   "source": [
    "dt.fit(X_train, y_train)"
   ]
  },
  {
   "cell_type": "code",
   "execution_count": 265,
   "id": "c4b6d82b-9cfd-4ac0-a483-3e574c9433d9",
   "metadata": {},
   "outputs": [
    {
     "data": {
      "text/plain": [
       "0.7945207985723167"
      ]
     },
     "execution_count": 265,
     "metadata": {},
     "output_type": "execute_result"
    }
   ],
   "source": [
    "dt.score(X_test, y_test)"
   ]
  },
  {
   "cell_type": "code",
   "execution_count": 266,
   "id": "3318ca98-7695-44e8-8dfd-10d18b98a0b3",
   "metadata": {},
   "outputs": [
    {
     "data": {
      "text/plain": [
       "0.20001602733832727"
      ]
     },
     "execution_count": 266,
     "metadata": {},
     "output_type": "execute_result"
    }
   ],
   "source": [
    "mean_squared_error(dt.predict(X_test), y_test)"
   ]
  },
  {
   "cell_type": "markdown",
   "id": "73db83b3-6566-4429-b186-955b0a182e35",
   "metadata": {
    "tags": []
   },
   "source": [
    "# Random Forest"
   ]
  },
  {
   "cell_type": "code",
   "execution_count": 259,
   "id": "df93cb66-6427-4788-a82c-d0f4ba15efc9",
   "metadata": {},
   "outputs": [
    {
     "data": {
      "text/plain": [
       "0.0455446484498858"
      ]
     },
     "execution_count": 259,
     "metadata": {},
     "output_type": "execute_result"
    }
   ],
   "source": [
    "reg = RandomForestRegressor(max_depth=30, random_state=42)\n",
    "reg.fit(X_train, y_train)\n",
    "y_pred = clf.predict(X_test)\n",
    "reg.score(X_test, y_test)"
   ]
  },
  {
   "cell_type": "code",
   "execution_count": 260,
   "id": "5381dc56-084b-4ba8-b7e6-776dadf95c2c",
   "metadata": {},
   "outputs": [
    {
     "data": {
      "text/plain": [
       "0.0455446484498858"
      ]
     },
     "execution_count": 260,
     "metadata": {},
     "output_type": "execute_result"
    }
   ],
   "source": [
    "mean_squared_error(y_pred, y_test)"
   ]
  },
  {
   "cell_type": "code",
   "execution_count": 116,
   "id": "7cb4fae9-3d7d-42cc-8d70-648cc157bd6f",
   "metadata": {},
   "outputs": [],
   "source": [
    "rf_scores = dict()\n",
    "for i in range(1, 40):\n",
    "    clf = RandomForestClassifier(max_depth=i, random_state=42)\n",
    "    clf.fit(X_train, y_binned_train)\n",
    "    rf_scores[i] = clf.score(X_test, y_binned_test)"
   ]
  },
  {
   "cell_type": "code",
   "execution_count": 235,
   "id": "4faa47a3-9c28-4e89-a1cd-f47bdd821626",
   "metadata": {},
   "outputs": [
    {
     "data": {
      "text/plain": [
       "Text(0, 0.5, 'Classification Score')"
      ]
     },
     "execution_count": 235,
     "metadata": {},
     "output_type": "execute_result"
    },
    {
     "data": {
      "image/png": "[encoded data removed]",
      "text/plain": [
       "<Figure size 432x288 with 1 Axes>"
      ]
     },
     "metadata": {
      "needs_background": "light"
     },
     "output_type": "display_data"
    }
   ],
   "source": [
    "plt.plot(rf_scores.keys(), rf_scores.values(), color=\"black\")\n",
    "plt.title(\"Random Forest\")\n",
    "plt.xlabel(\"Depth\")\n",
    "plt.ylabel(\"Classification Score\")"
   ]
  },
  {
   "cell_type": "markdown",
   "id": "858be223-6291-4750-b9a5-846b302310ef",
   "metadata": {},
   "source": [
    "# XGBOOST"
   ]
  },
  {
   "cell_type": "code",
   "execution_count": 227,
   "id": "2ef07cf0-de11-4862-9d63-d435c7829c2b",
   "metadata": {},
   "outputs": [],
   "source": [
    "X_train, X_test, y_train, y_test = train_test_split(X, y, test_size = 0.3, random_state = 42, shuffle = True)"
   ]
  },
  {
   "cell_type": "code",
   "execution_count": 228,
   "id": "b0108efd-cdc4-4933-9271-dea570b26bb0",
   "metadata": {},
   "outputs": [],
   "source": [
    "dtrain = xgb.DMatrix(X_train, label=y_train)\n",
    "dtest = xgb.DMatrix(X_test, label=y_test)\n",
    "evallist = [(dtrain, 'train'), (dtest, 'eval')]"
   ]
  },
  {
   "cell_type": "code",
   "execution_count": 229,
   "id": "9718243b-f766-465f-8884-eeed4f95d805",
   "metadata": {},
   "outputs": [
    {
     "data": {
      "text/html": [
       "<style>#sk-container-id-23 {color: black;background-color: white;}#sk-container-id-23 pre{padding: 0;}#sk-container-id-23 div.sk-toggleable {background-color: white;}#sk-container-id-23 label.sk-toggleable__label {cursor: pointer;display: block;width: 100%;margin-bottom: 0;padding: 0.3em;box-sizing: border-box;text-align: center;}#sk-container-id-23 label.sk-toggleable__label-arrow:before {content: \"▸\";float: left;margin-right: 0.25em;color: #696969;}#sk-container-id-23 label.sk-toggleable__label-arrow:hover:before {color: black;}#sk-container-id-23 div.sk-estimator:hover label.sk-toggleable__label-arrow:before {color: black;}#sk-container-id-23 div.sk-toggleable__content {max-height: 0;max-width: 0;overflow: hidden;text-align: left;background-color: #f0f8ff;}#sk-container-id-23 div.sk-toggleable__content pre {margin: 0.2em;color: black;border-radius: 0.25em;background-color: #f0f8ff;}#sk-container-id-23 input.sk-toggleable__control:checked~div.sk-toggleable__content {max-height: 200px;max-width: 100%;overflow: auto;}#sk-container-id-23 input.sk-toggleable__control:checked~label.sk-toggleable__label-arrow:before {content: \"▾\";}#sk-container-id-23 div.sk-estimator input.sk-toggleable__control:checked~label.sk-toggleable__label {background-color: #d4ebff;}#sk-container-id-23 div.sk-label input.sk-toggleable__control:checked~label.sk-toggleable__label {background-color: #d4ebff;}#sk-container-id-23 input.sk-hidden--visually {border: 0;clip: rect(1px 1px 1px 1px);clip: rect(1px, 1px, 1px, 1px);height: 1px;margin: -1px;overflow: hidden;padding: 0;position: absolute;width: 1px;}#sk-container-id-23 div.sk-estimator {font-family: monospace;background-color: #f0f8ff;border: 1px dotted black;border-radius: 0.25em;box-sizing: border-box;margin-bottom: 0.5em;}#sk-container-id-23 div.sk-estimator:hover {background-color: #d4ebff;}#sk-container-id-23 div.sk-parallel-item::after {content: \"\";width: 100%;border-bottom: 1px solid gray;flex-grow: 1;}#sk-container-id-23 div.sk-label:hover label.sk-toggleable__label {background-color: #d4ebff;}#sk-container-id-23 div.sk-serial::before {content: \"\";position: absolute;border-left: 1px solid gray;box-sizing: border-box;top: 0;bottom: 0;left: 50%;z-index: 0;}#sk-container-id-23 div.sk-serial {display: flex;flex-direction: column;align-items: center;background-color: white;padding-right: 0.2em;padding-left: 0.2em;position: relative;}#sk-container-id-23 div.sk-item {position: relative;z-index: 1;}#sk-container-id-23 div.sk-parallel {display: flex;align-items: stretch;justify-content: center;background-color: white;position: relative;}#sk-container-id-23 div.sk-item::before, #sk-container-id-23 div.sk-parallel-item::before {content: \"\";position: absolute;border-left: 1px solid gray;box-sizing: border-box;top: 0;bottom: 0;left: 50%;z-index: -1;}#sk-container-id-23 div.sk-parallel-item {display: flex;flex-direction: column;z-index: 1;position: relative;background-color: white;}#sk-container-id-23 div.sk-parallel-item:first-child::after {align-self: flex-end;width: 50%;}#sk-container-id-23 div.sk-parallel-item:last-child::after {align-self: flex-start;width: 50%;}#sk-container-id-23 div.sk-parallel-item:only-child::after {width: 0;}#sk-container-id-23 div.sk-dashed-wrapped {border: 1px dashed gray;margin: 0 0.4em 0.5em 0.4em;box-sizing: border-box;padding-bottom: 0.4em;background-color: white;}#sk-container-id-23 div.sk-label label {font-family: monospace;font-weight: bold;display: inline-block;line-height: 1.2em;}#sk-container-id-23 div.sk-label-container {text-align: center;}#sk-container-id-23 div.sk-container {/* jupyter's `normalize.less` sets `[hidden] { display: none; }` but bootstrap.min.css set `[hidden] { display: none !important; }` so we also need the `!important` here to be able to override the default hidden behavior on the sphinx rendered scikit-learn.org. See: https://github.com/scikit-learn/scikit-learn/issues/21755 */display: inline-block !important;position: relative;}#sk-container-id-23 div.sk-text-repr-fallback {display: none;}</style><div id=\"sk-container-id-23\" class=\"sk-top-container\"><div class=\"sk-text-repr-fallback\"><pre>XGBRegressor(base_score=0.5, booster=&#x27;gbtree&#x27;, callbacks=None,\n",
       "             colsample_bylevel=1, colsample_bynode=1, colsample_bytree=1,\n",
       "             early_stopping_rounds=None, enable_categorical=False,\n",
       "             eval_metric=None, gamma=0, gpu_id=-1, grow_policy=&#x27;depthwise&#x27;,\n",
       "             importance_type=None, interaction_constraints=&#x27;&#x27;,\n",
       "             learning_rate=0.300000012, max_bin=256, max_cat_to_onehot=4,\n",
       "             max_delta_step=0, max_depth=6, max_leaves=0, min_child_weight=1,\n",
       "             missing=nan, monotone_constraints=&#x27;()&#x27;, n_estimators=100, n_jobs=0,\n",
       "             num_parallel_tree=1, predictor=&#x27;auto&#x27;, random_state=0, reg_alpha=0,\n",
       "             reg_lambda=1, ...)</pre><b>In a Jupyter environment, please rerun this cell to show the HTML representation or trust the notebook. <br />On GitHub, the HTML representation is unable to render, please try loading this page with nbviewer.org.</b></div><div class=\"sk-container\" hidden><div class=\"sk-item\"><div class=\"sk-estimator sk-toggleable\"><input class=\"sk-toggleable__control sk-hidden--visually\" id=\"sk-estimator-id-23\" type=\"checkbox\" checked><label for=\"sk-estimator-id-23\" class=\"sk-toggleable__label sk-toggleable__label-arrow\">XGBRegressor</label><div class=\"sk-toggleable__content\"><pre>XGBRegressor(base_score=0.5, booster=&#x27;gbtree&#x27;, callbacks=None,\n",
       "             colsample_bylevel=1, colsample_bynode=1, colsample_bytree=1,\n",
       "             early_stopping_rounds=None, enable_categorical=False,\n",
       "             eval_metric=None, gamma=0, gpu_id=-1, grow_policy=&#x27;depthwise&#x27;,\n",
       "             importance_type=None, interaction_constraints=&#x27;&#x27;,\n",
       "             learning_rate=0.300000012, max_bin=256, max_cat_to_onehot=4,\n",
       "             max_delta_step=0, max_depth=6, max_leaves=0, min_child_weight=1,\n",
       "             missing=nan, monotone_constraints=&#x27;()&#x27;, n_estimators=100, n_jobs=0,\n",
       "             num_parallel_tree=1, predictor=&#x27;auto&#x27;, random_state=0, reg_alpha=0,\n",
       "             reg_lambda=1, ...)</pre></div></div></div></div></div>"
      ],
      "text/plain": [
       "XGBRegressor(base_score=0.5, booster='gbtree', callbacks=None,\n",
       "             colsample_bylevel=1, colsample_bynode=1, colsample_bytree=1,\n",
       "             early_stopping_rounds=None, enable_categorical=False,\n",
       "             eval_metric=None, gamma=0, gpu_id=-1, grow_policy='depthwise',\n",
       "             importance_type=None, interaction_constraints='',\n",
       "             learning_rate=0.300000012, max_bin=256, max_cat_to_onehot=4,\n",
       "             max_delta_step=0, max_depth=6, max_leaves=0, min_child_weight=1,\n",
       "             missing=nan, monotone_constraints='()', n_estimators=100, n_jobs=0,\n",
       "             num_parallel_tree=1, predictor='auto', random_state=0, reg_alpha=0,\n",
       "             reg_lambda=1, ...)"
      ]
     },
     "execution_count": 229,
     "metadata": {},
     "output_type": "execute_result"
    }
   ],
   "source": [
    "xgbr = xgb.XGBRegressor(verbosity=0) \n",
    "xgbr.fit(X_train, y_train)"
   ]
  },
  {
   "cell_type": "code",
   "execution_count": 230,
   "id": "c2bf3b58-1a14-4809-92cd-ed2bb69c9650",
   "metadata": {},
   "outputs": [
    {
     "data": {
      "text/plain": [
       "0.9750858169554163"
      ]
     },
     "execution_count": 230,
     "metadata": {},
     "output_type": "execute_result"
    }
   ],
   "source": [
    "xgbr.score(X_test, y_test)"
   ]
  },
  {
   "cell_type": "code",
   "execution_count": 251,
   "id": "3cc2e40b-4f3e-4d3c-aa86-53a0244e5875",
   "metadata": {},
   "outputs": [
    {
     "data": {
      "text/plain": [
       "(4412    -0.575741\n",
       " 10474   -0.686785\n",
       " 5032    -0.601711\n",
       " 2611     0.723661\n",
       " 1562     3.450523\n",
       "            ...   \n",
       " 5608    -0.758427\n",
       " 1765    -0.588278\n",
       " 5496    -0.552457\n",
       " 2456    -0.570367\n",
       " 5665    -0.669770\n",
       " Name: Price, Length: 3610, dtype: float64,\n",
       " array([-0.594171  , -0.56262094, -0.68631893, ..., -0.55902034,\n",
       "        -0.50409263, -0.6885315 ], dtype=float32))"
      ]
     },
     "execution_count": 251,
     "metadata": {},
     "output_type": "execute_result"
    }
   ],
   "source": [
    "y_test, y_pred"
   ]
  },
  {
   "cell_type": "code",
   "execution_count": 231,
   "id": "93070a94-2de5-45cf-99fb-901649e1b6a3",
   "metadata": {},
   "outputs": [],
   "source": [
    "y_pred = xgbr.predict(X_test)\n",
    "mse = mean_squared_error(y_test, y_pred)"
   ]
  },
  {
   "cell_type": "code",
   "execution_count": 232,
   "id": "7d009e92-102e-4e68-a9c5-2ac8c75ce2b3",
   "metadata": {},
   "outputs": [
    {
     "data": {
      "text/plain": [
       "0.024251777709537913"
      ]
     },
     "execution_count": 232,
     "metadata": {},
     "output_type": "execute_result"
    }
   ],
   "source": [
    "mse"
   ]
  },
  {
   "cell_type": "code",
   "execution_count": 233,
   "id": "08e5e117-b51b-4d0e-92af-4ff3b1db8ed0",
   "metadata": {},
   "outputs": [
    {
     "data": {
      "text/plain": [
       "<AxesSubplot:title={'center':'Feature importance'}, xlabel='F score', ylabel='Features'>"
      ]
     },
     "execution_count": 233,
     "metadata": {},
     "output_type": "execute_result"
    },
    {
     "data": {
      "image/png": "[encoded data removed]",
      "text/plain": [
       "<Figure size 432x288 with 1 Axes>"
      ]
     },
     "metadata": {
      "needs_background": "light"
     },
     "output_type": "display_data"
    }
   ],
   "source": [
    "xgb.plot_importance(xgbr)"
   ]
  },
  {
   "cell_type": "markdown",
   "id": "89179a6c-3594-4180-870d-3d607c781471",
   "metadata": {},
   "source": [
    "# XGBOOST with PCA"
   ]
  },
  {
   "cell_type": "code",
   "execution_count": 236,
   "id": "12dc9a03-2bff-43fa-99b3-a4060d6ced54",
   "metadata": {},
   "outputs": [],
   "source": [
    "mse = dict()\n",
    "score = dict()\n",
    "for n in range(1, 13):\n",
    "    pca = PCA(n_components = n)\n",
    "    pca.fit(X)\n",
    "\n",
    "    X_pca = pca.transform(X)\n",
    "    X_train, X_test, y_train, y_test = train_test_split(X_pca, y, test_size = 0.3, random_state = 42, shuffle = True)\n",
    "    dtrain = xgb.DMatrix(X_train, label=y_train)\n",
    "    dtest = xgb.DMatrix(X_test, label=y_test)\n",
    "    evallist = [(dtrain, 'train'), (dtest, 'eval')]\n",
    "    xgbr = xgb.XGBRegressor(verbosity=0) \n",
    "    xgbr.fit(X_train, y_train)\n",
    "    score[n] = xgbr.score(X_test, y_test)\n",
    "    y_pred = xgbr.predict(X_test)\n",
    "    mse[n] = mean_squared_error(y_test, y_pred)\n",
    "    "
   ]
  },
  {
   "cell_type": "code",
   "execution_count": 241,
   "id": "758e1683-1ade-455a-a035-eb53633f797c",
   "metadata": {},
   "outputs": [
    {
     "data": {
      "text/plain": [
       "Text(0.5, 1.0, 'PCA')"
      ]
     },
     "execution_count": 241,
     "metadata": {},
     "output_type": "execute_result"
    },
    {
     "data": {
      "image/png": "[encoded data removed]",
      "text/plain": [
       "<Figure size 432x288 with 1 Axes>"
      ]
     },
     "metadata": {
      "needs_background": "light"
     },
     "output_type": "display_data"
    }
   ],
   "source": [
    "plt.plot(mse.keys(), mse.values(), color=\"black\")\n",
    "plt.xlabel(\"Dimension\")\n",
    "plt.ylabel(\"MSE\")\n",
    "plt.title(\"PCA\")"
   ]
  },
  {
   "cell_type": "code",
   "execution_count": null,
   "id": "2432dcc7-a147-4116-964b-98bb08caee9a",
   "metadata": {},
   "outputs": [],
   "source": []
  }
 ],
 "metadata": {
  "kernelspec": {
   "display_name": "Python 3 (ipykernel)",
   "language": "python",
   "name": "python3"
  },
  "language_info": {
   "codemirror_mode": {
    "name": "ipython",
    "version": 3
   },
   "file_extension": ".py",
   "mimetype": "text/x-python",
   "name": "python",
   "nbconvert_exporter": "python",
   "pygments_lexer": "ipython3",
   "version": "3.10.0"
  }
 },
 "nbformat": 4,
 "nbformat_minor": 5
}
